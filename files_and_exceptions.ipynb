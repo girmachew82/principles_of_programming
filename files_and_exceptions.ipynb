{
  "nbformat": 4,
  "nbformat_minor": 0,
  "metadata": {
    "colab": {
      "provenance": [],
      "toc_visible": true,
      "authorship_tag": "ABX9TyM0YabG/ncdUY6fUAWkN8Tb",
      "include_colab_link": true
    },
    "kernelspec": {
      "name": "python3",
      "display_name": "Python 3"
    },
    "language_info": {
      "name": "python"
    }
  },
  "cells": [
    {
      "cell_type": "markdown",
      "metadata": {
        "id": "view-in-github",
        "colab_type": "text"
      },
      "source": [
        "<a href=\"https://colab.research.google.com/github/girmachew82/principles_of_programming/blob/main/files_and_exceptions.ipynb\" target=\"_parent\"><img src=\"https://colab.research.google.com/assets/colab-badge.svg\" alt=\"Open In Colab\"/></a>"
      ]
    },
    {
      "cell_type": "markdown",
      "source": [
        "# File and Exception in python"
      ],
      "metadata": {
        "id": "O8xmPdtfH9UT"
      }
    },
    {
      "cell_type": "markdown",
      "source": [
        "# Contents\n",
        "\n",
        "---\n",
        "\n"
      ],
      "metadata": {
        "id": "HtF9Af8BJXtX"
      }
    },
    {
      "cell_type": "markdown",
      "source": [
        "- Introduction\n",
        "- File creation and manipulation\n",
        "- Handling exceptions"
      ],
      "metadata": {
        "id": "jHdguP5uJdZA"
      }
    },
    {
      "cell_type": "markdown",
      "source": [
        "# Learning Outcomes"
      ],
      "metadata": {
        "id": "ow421NxXJrRM"
      }
    },
    {
      "cell_type": "markdown",
      "source": [
        "- Create file as permanent storage\n",
        "- Manipulate data stored in file\n",
        "- Handling exceptions while writing a program\n",
        "\n",
        "\n",
        "---\n",
        "\n"
      ],
      "metadata": {
        "id": "BgOCN-ljJwOj"
      }
    },
    {
      "cell_type": "markdown",
      "source": [
        "## Introduction"
      ],
      "metadata": {
        "id": "SAk_YaWhIN6H"
      }
    },
    {
      "cell_type": "markdown",
      "source": [
        "-- In previuse sessions we have done programming and manipulate data stored in memory  \n",
        "-- Data stored on memory is not avilable after the working envirnment restarted  \n",
        "-- So, to store data persistantlly file is one of the options  \n",
        "-- File is important in so many ways and one of them is to store log information  "
      ],
      "metadata": {
        "id": "B5IuBQFwIu8x"
      }
    },
    {
      "cell_type": "markdown",
      "source": [
        "## File processing"
      ],
      "metadata": {
        "id": "K61a-yDOIUff"
      }
    },
    {
      "cell_type": "markdown",
      "source": [
        "-- Open ==> process`(read or write`) ==> close are steps in file programming  \n",
        "-- To do these tasks python has built-in methods such as open(), write()\n",
        "close(),"
      ],
      "metadata": {
        "id": "dgwg7mQgKscD"
      }
    },
    {
      "cell_type": "markdown",
      "source": [
        "### Opning a file"
      ],
      "metadata": {
        "id": "tgwNuOTVLupT"
      }
    },
    {
      "cell_type": "markdown",
      "source": [
        "-- To open a file, you use the open() function.  \n",
        "-- This function returns a file object, which you can then use to read from or write to the file.  \n",
        "-- If the file cannot be opened, an `OSError` is raised"
      ],
      "metadata": {
        "id": "s3V5L8rbL5sV"
      }
    },
    {
      "cell_type": "markdown",
      "source": [
        "```\n",
        "Syntax\n",
        "file = open(file, mode='r', buffering=-1, encoding=None, errors=None, newline=None, closefd=True, opener=None)\n",
        "\n",
        "```"
      ],
      "metadata": {
        "id": "z98042JhMBBk"
      }
    },
    {
      "cell_type": "markdown",
      "source": [
        "-- \"file\" is a path either absolute or relative to the file to be opened or an integer file descriptor of the file to be wrapped. (If a file descriptor is given, it is closed when the returned I/O object is closed unless closefd is set to False.)  \n",
        "-- \"mode\" specifies the mode in which the file is opened. Common modes include:   \n",
        "    -- 'r': Read (default mode)  \n",
        "    -- 'r+': Read (read and write mode)  \n",
        "    -- 'w': Write (creates a new file or truncates an existing file)   \n",
        "    -- 'a': Append (adds content to the end of the file)  \n",
        "    -- 'b': Binary mode (e.g., 'rb' or 'wb' for reading or writing binary files)\n",
        "-- Only \"file\" is required parameter others have default values  "
      ],
      "metadata": {
        "id": "SkVKkKwRMGDS"
      }
    },
    {
      "cell_type": "markdown",
      "source": [
        "### Reading from a File\n"
      ],
      "metadata": {
        "id": "NlcwSAXtPLoq"
      }
    },
    {
      "cell_type": "markdown",
      "source": [
        "-- There are some predefined methods used to read contents of a file such as `read(), readline(), or readlines()`  \n",
        "-- call f.read(size), which reads some quantity of data and returns it as a string (in text mode) or bytes object (in binary mode). size is an optional numeric argument. When size is omitted or negative, the entire contents of the file will be read and returned; If the end of the file has been reached, f.read() will return an empty string ('').  \n",
        "-- f.readline() reads a single line from the file; a newline character (\\n) is left at the end of the string, and is only omitted on the last line of the file if the file doesn’t end in a newline. This makes the return value unambiguous; if f.readline() returns an empty string, the end of the file has been reached, while a blank line is represented by '\\n', a string containing only a single newline.  \n",
        "-- f.readlines() reads all the lines of the file and returns them as a list of strings.  \n"
      ],
      "metadata": {
        "id": "ytwwNKl7PPrv"
      }
    },
    {
      "cell_type": "markdown",
      "source": [
        "Example"
      ],
      "metadata": {
        "id": "7SFu7JC4PkXi"
      }
    },
    {
      "cell_type": "code",
      "source": [
        "import os\n",
        "print(os.getcwd())"
      ],
      "metadata": {
        "colab": {
          "base_uri": "https://localhost:8080/"
        },
        "id": "2fp1mHr3Um9h",
        "outputId": "276cb2c0-bed7-4bae-c75e-678c83386cf7"
      },
      "execution_count": null,
      "outputs": [
        {
          "output_type": "stream",
          "name": "stdout",
          "text": [
            "/content\n"
          ]
        }
      ]
    },
    {
      "cell_type": "code",
      "source": [
        "from google.colab import files\n",
        "uploaded = files.upload()"
      ],
      "metadata": {
        "colab": {
          "base_uri": "https://localhost:8080/",
          "height": 71
        },
        "id": "CeuF91JnUyU0",
        "outputId": "5a3db876-6aa0-4122-b59c-15cdc619dde7"
      },
      "execution_count": null,
      "outputs": [
        {
          "output_type": "display_data",
          "data": {
            "text/plain": [
              "<IPython.core.display.HTML object>"
            ],
            "text/html": [
              "\n",
              "     <input type=\"file\" id=\"files-99979efd-a13c-4055-9ba8-5134ed4a05ad\" name=\"files[]\" multiple disabled\n",
              "        style=\"border:none\" />\n",
              "     <output id=\"result-99979efd-a13c-4055-9ba8-5134ed4a05ad\">\n",
              "      Upload widget is only available when the cell has been executed in the\n",
              "      current browser session. Please rerun this cell to enable.\n",
              "      </output>\n",
              "      <script>// Copyright 2017 Google LLC\n",
              "//\n",
              "// Licensed under the Apache License, Version 2.0 (the \"License\");\n",
              "// you may not use this file except in compliance with the License.\n",
              "// You may obtain a copy of the License at\n",
              "//\n",
              "//      http://www.apache.org/licenses/LICENSE-2.0\n",
              "//\n",
              "// Unless required by applicable law or agreed to in writing, software\n",
              "// distributed under the License is distributed on an \"AS IS\" BASIS,\n",
              "// WITHOUT WARRANTIES OR CONDITIONS OF ANY KIND, either express or implied.\n",
              "// See the License for the specific language governing permissions and\n",
              "// limitations under the License.\n",
              "\n",
              "/**\n",
              " * @fileoverview Helpers for google.colab Python module.\n",
              " */\n",
              "(function(scope) {\n",
              "function span(text, styleAttributes = {}) {\n",
              "  const element = document.createElement('span');\n",
              "  element.textContent = text;\n",
              "  for (const key of Object.keys(styleAttributes)) {\n",
              "    element.style[key] = styleAttributes[key];\n",
              "  }\n",
              "  return element;\n",
              "}\n",
              "\n",
              "// Max number of bytes which will be uploaded at a time.\n",
              "const MAX_PAYLOAD_SIZE = 100 * 1024;\n",
              "\n",
              "function _uploadFiles(inputId, outputId) {\n",
              "  const steps = uploadFilesStep(inputId, outputId);\n",
              "  const outputElement = document.getElementById(outputId);\n",
              "  // Cache steps on the outputElement to make it available for the next call\n",
              "  // to uploadFilesContinue from Python.\n",
              "  outputElement.steps = steps;\n",
              "\n",
              "  return _uploadFilesContinue(outputId);\n",
              "}\n",
              "\n",
              "// This is roughly an async generator (not supported in the browser yet),\n",
              "// where there are multiple asynchronous steps and the Python side is going\n",
              "// to poll for completion of each step.\n",
              "// This uses a Promise to block the python side on completion of each step,\n",
              "// then passes the result of the previous step as the input to the next step.\n",
              "function _uploadFilesContinue(outputId) {\n",
              "  const outputElement = document.getElementById(outputId);\n",
              "  const steps = outputElement.steps;\n",
              "\n",
              "  const next = steps.next(outputElement.lastPromiseValue);\n",
              "  return Promise.resolve(next.value.promise).then((value) => {\n",
              "    // Cache the last promise value to make it available to the next\n",
              "    // step of the generator.\n",
              "    outputElement.lastPromiseValue = value;\n",
              "    return next.value.response;\n",
              "  });\n",
              "}\n",
              "\n",
              "/**\n",
              " * Generator function which is called between each async step of the upload\n",
              " * process.\n",
              " * @param {string} inputId Element ID of the input file picker element.\n",
              " * @param {string} outputId Element ID of the output display.\n",
              " * @return {!Iterable<!Object>} Iterable of next steps.\n",
              " */\n",
              "function* uploadFilesStep(inputId, outputId) {\n",
              "  const inputElement = document.getElementById(inputId);\n",
              "  inputElement.disabled = false;\n",
              "\n",
              "  const outputElement = document.getElementById(outputId);\n",
              "  outputElement.innerHTML = '';\n",
              "\n",
              "  const pickedPromise = new Promise((resolve) => {\n",
              "    inputElement.addEventListener('change', (e) => {\n",
              "      resolve(e.target.files);\n",
              "    });\n",
              "  });\n",
              "\n",
              "  const cancel = document.createElement('button');\n",
              "  inputElement.parentElement.appendChild(cancel);\n",
              "  cancel.textContent = 'Cancel upload';\n",
              "  const cancelPromise = new Promise((resolve) => {\n",
              "    cancel.onclick = () => {\n",
              "      resolve(null);\n",
              "    };\n",
              "  });\n",
              "\n",
              "  // Wait for the user to pick the files.\n",
              "  const files = yield {\n",
              "    promise: Promise.race([pickedPromise, cancelPromise]),\n",
              "    response: {\n",
              "      action: 'starting',\n",
              "    }\n",
              "  };\n",
              "\n",
              "  cancel.remove();\n",
              "\n",
              "  // Disable the input element since further picks are not allowed.\n",
              "  inputElement.disabled = true;\n",
              "\n",
              "  if (!files) {\n",
              "    return {\n",
              "      response: {\n",
              "        action: 'complete',\n",
              "      }\n",
              "    };\n",
              "  }\n",
              "\n",
              "  for (const file of files) {\n",
              "    const li = document.createElement('li');\n",
              "    li.append(span(file.name, {fontWeight: 'bold'}));\n",
              "    li.append(span(\n",
              "        `(${file.type || 'n/a'}) - ${file.size} bytes, ` +\n",
              "        `last modified: ${\n",
              "            file.lastModifiedDate ? file.lastModifiedDate.toLocaleDateString() :\n",
              "                                    'n/a'} - `));\n",
              "    const percent = span('0% done');\n",
              "    li.appendChild(percent);\n",
              "\n",
              "    outputElement.appendChild(li);\n",
              "\n",
              "    const fileDataPromise = new Promise((resolve) => {\n",
              "      const reader = new FileReader();\n",
              "      reader.onload = (e) => {\n",
              "        resolve(e.target.result);\n",
              "      };\n",
              "      reader.readAsArrayBuffer(file);\n",
              "    });\n",
              "    // Wait for the data to be ready.\n",
              "    let fileData = yield {\n",
              "      promise: fileDataPromise,\n",
              "      response: {\n",
              "        action: 'continue',\n",
              "      }\n",
              "    };\n",
              "\n",
              "    // Use a chunked sending to avoid message size limits. See b/62115660.\n",
              "    let position = 0;\n",
              "    do {\n",
              "      const length = Math.min(fileData.byteLength - position, MAX_PAYLOAD_SIZE);\n",
              "      const chunk = new Uint8Array(fileData, position, length);\n",
              "      position += length;\n",
              "\n",
              "      const base64 = btoa(String.fromCharCode.apply(null, chunk));\n",
              "      yield {\n",
              "        response: {\n",
              "          action: 'append',\n",
              "          file: file.name,\n",
              "          data: base64,\n",
              "        },\n",
              "      };\n",
              "\n",
              "      let percentDone = fileData.byteLength === 0 ?\n",
              "          100 :\n",
              "          Math.round((position / fileData.byteLength) * 100);\n",
              "      percent.textContent = `${percentDone}% done`;\n",
              "\n",
              "    } while (position < fileData.byteLength);\n",
              "  }\n",
              "\n",
              "  // All done.\n",
              "  yield {\n",
              "    response: {\n",
              "      action: 'complete',\n",
              "    }\n",
              "  };\n",
              "}\n",
              "\n",
              "scope.google = scope.google || {};\n",
              "scope.google.colab = scope.google.colab || {};\n",
              "scope.google.colab._files = {\n",
              "  _uploadFiles,\n",
              "  _uploadFilesContinue,\n",
              "};\n",
              "})(self);\n",
              "</script> "
            ]
          },
          "metadata": {}
        },
        {
          "output_type": "stream",
          "name": "stdout",
          "text": [
            "Saving example.docx to example.docx\n"
          ]
        }
      ]
    },
    {
      "cell_type": "markdown",
      "source": [
        "Reading"
      ],
      "metadata": {
        "id": "VhF3xQCbXLYm"
      }
    },
    {
      "cell_type": "markdown",
      "source": [
        "#### `read()`"
      ],
      "metadata": {
        "id": "3GYfw5ifIFxe"
      }
    },
    {
      "cell_type": "code",
      "source": [
        "file = open(\"example.txt\", \"r\")\n",
        "content = file.read()\n",
        "print(content)\n",
        "file.close()"
      ],
      "metadata": {
        "colab": {
          "base_uri": "https://localhost:8080/"
        },
        "id": "cisi9biPGOd4",
        "outputId": "1dc3bedb-1ba9-4cec-86ea-1d8889ac570c"
      },
      "execution_count": null,
      "outputs": [
        {
          "output_type": "stream",
          "name": "stdout",
          "text": [
            "Hello, World!\n"
          ]
        }
      ]
    },
    {
      "cell_type": "markdown",
      "source": [
        "#### readline()"
      ],
      "metadata": {
        "id": "6WpLoQTIIMvx"
      }
    },
    {
      "cell_type": "code",
      "source": [
        "file = open(\"example.txt\", \"r\")\n",
        "line = file.readline()\n",
        "while line:\n",
        "  print(line, end=\"\")\n",
        "  line = file.readline()\n"
      ],
      "metadata": {
        "colab": {
          "base_uri": "https://localhost:8080/"
        },
        "id": "9EMoJ1rkGdcc",
        "outputId": "b7b9e72d-1c32-4e56-ee93-401018e948e4"
      },
      "execution_count": null,
      "outputs": [
        {
          "output_type": "stream",
          "name": "stdout",
          "text": [
            "Hello, World!"
          ]
        }
      ]
    },
    {
      "cell_type": "markdown",
      "source": [
        "#### readlines()"
      ],
      "metadata": {
        "id": "hA72s3ZXIRtD"
      }
    },
    {
      "cell_type": "code",
      "source": [
        "file = open(\"example.txt\")\n",
        "lines = file.readlines()\n",
        "for line in lines:\n",
        "  print(line, end=\"\")"
      ],
      "metadata": {
        "colab": {
          "base_uri": "https://localhost:8080/"
        },
        "id": "zCy_ok4UHUKl",
        "outputId": "44217074-6d3d-4340-8d98-58ffd7f918fd"
      },
      "execution_count": null,
      "outputs": [
        {
          "output_type": "stream",
          "name": "stdout",
          "text": [
            "Hello, World!"
          ]
        }
      ]
    },
    {
      "cell_type": "markdown",
      "source": [
        "### Writing data in file"
      ],
      "metadata": {
        "id": "_bqxWQVlWYWY"
      }
    },
    {
      "cell_type": "code",
      "source": [
        "file = open(\"example.txt\", \"w\")\n",
        "file.write(\"Hello, World!\")\n",
        "file.close()"
      ],
      "metadata": {
        "id": "u9FUFCMmWbk8"
      },
      "execution_count": null,
      "outputs": []
    },
    {
      "cell_type": "code",
      "source": [
        "file = open(\"example.txt\",\"w\")\n",
        "x = [1,2,3]\n",
        "file.write(x)\n",
        "file.close()"
      ],
      "metadata": {
        "colab": {
          "base_uri": "https://localhost:8080/",
          "height": 193
        },
        "id": "jyWfO5EFLLgR",
        "outputId": "f977ecf6-e5aa-40ba-8a78-c8d2d7a49320"
      },
      "execution_count": null,
      "outputs": [
        {
          "output_type": "error",
          "ename": "TypeError",
          "evalue": "write() argument must be str, not list",
          "traceback": [
            "\u001b[0;31m---------------------------------------------------------------------------\u001b[0m",
            "\u001b[0;31mTypeError\u001b[0m                                 Traceback (most recent call last)",
            "\u001b[0;32m<ipython-input-37-85af3e51c5ab>\u001b[0m in \u001b[0;36m<cell line: 3>\u001b[0;34m()\u001b[0m\n\u001b[1;32m      1\u001b[0m \u001b[0mfile\u001b[0m \u001b[0;34m=\u001b[0m \u001b[0mopen\u001b[0m\u001b[0;34m(\u001b[0m\u001b[0;34m\"example.txt\"\u001b[0m\u001b[0;34m,\u001b[0m\u001b[0;34m\"w\"\u001b[0m\u001b[0;34m)\u001b[0m\u001b[0;34m\u001b[0m\u001b[0;34m\u001b[0m\u001b[0m\n\u001b[1;32m      2\u001b[0m \u001b[0mx\u001b[0m \u001b[0;34m=\u001b[0m \u001b[0;34m[\u001b[0m\u001b[0;36m1\u001b[0m\u001b[0;34m,\u001b[0m\u001b[0;36m2\u001b[0m\u001b[0;34m,\u001b[0m\u001b[0;36m3\u001b[0m\u001b[0;34m]\u001b[0m\u001b[0;34m\u001b[0m\u001b[0;34m\u001b[0m\u001b[0m\n\u001b[0;32m----> 3\u001b[0;31m \u001b[0mfile\u001b[0m\u001b[0;34m.\u001b[0m\u001b[0mwrite\u001b[0m\u001b[0;34m(\u001b[0m\u001b[0mx\u001b[0m\u001b[0;34m)\u001b[0m\u001b[0;34m\u001b[0m\u001b[0;34m\u001b[0m\u001b[0m\n\u001b[0m\u001b[1;32m      4\u001b[0m \u001b[0mfile\u001b[0m\u001b[0;34m.\u001b[0m\u001b[0mclose\u001b[0m\u001b[0;34m(\u001b[0m\u001b[0;34m)\u001b[0m\u001b[0;34m\u001b[0m\u001b[0;34m\u001b[0m\u001b[0m\n",
            "\u001b[0;31mTypeError\u001b[0m: write() argument must be str, not list"
          ]
        }
      ]
    },
    {
      "cell_type": "markdown",
      "source": [
        "----checking"
      ],
      "metadata": {
        "id": "m0AJiu22I2GD"
      }
    },
    {
      "cell_type": "code",
      "source": [
        "file = open(\"example.txt\", \"r\")\n",
        "content = file.read()\n",
        "print(content)\n",
        "file.close()"
      ],
      "metadata": {
        "colab": {
          "base_uri": "https://localhost:8080/"
        },
        "id": "1h-GR1msIz7R",
        "outputId": "f4a35cf5-fc47-4f0c-8939-531395523177"
      },
      "execution_count": null,
      "outputs": [
        {
          "output_type": "stream",
          "name": "stdout",
          "text": [
            "[1, 2, 3]\n"
          ]
        }
      ]
    },
    {
      "cell_type": "markdown",
      "source": [
        "### Append in file"
      ],
      "metadata": {
        "id": "YH1D4bWfW_kd"
      }
    },
    {
      "cell_type": "code",
      "source": [
        "file = open(\"example.txt\", \"a\")\n",
        "file.write(\"\\nHello, World!\")\n",
        "file.write(\"\\nHello World\")\n",
        "file.close()"
      ],
      "metadata": {
        "id": "lJxa_OoTXFs7"
      },
      "execution_count": null,
      "outputs": []
    },
    {
      "cell_type": "markdown",
      "source": [
        "---- checking"
      ],
      "metadata": {
        "id": "H4Yau1JGIwjV"
      }
    },
    {
      "cell_type": "code",
      "source": [
        "file = open(\"example.txt\", \"r\")\n",
        "content = file.read()\n",
        "print(content)\n",
        "file.close()"
      ],
      "metadata": {
        "colab": {
          "base_uri": "https://localhost:8080/"
        },
        "id": "FJ8IuTd0XM7q",
        "outputId": "6d044a9f-1934-487c-ba2b-4780796c48e4"
      },
      "execution_count": null,
      "outputs": [
        {
          "output_type": "stream",
          "name": "stdout",
          "text": [
            "Hello, World!\n",
            "Hello, World!\n",
            "Hello World\n",
            "Hello, World!\n",
            "Hello World\n",
            "Hello, World!\n",
            "Hello World\n",
            "Hello, World!\n",
            "Hello World\n",
            "Hello, World!\n",
            "Hello World\n",
            "Hello, World!\n",
            "Hello World\n"
          ]
        }
      ]
    },
    {
      "cell_type": "markdown",
      "source": [
        "### File manipulation through `with` method"
      ],
      "metadata": {
        "id": "QPZ2P5rVYK0s"
      }
    },
    {
      "cell_type": "markdown",
      "source": [
        "-- A more efficient way to handle files is by using the with statement, which ensures the file is properly closed after its suite finishes  \n",
        "-- If file is manipulate using `with` no need to use `close()` method  \n",
        "-- Using with is also much shorter than writing equivalent try-finally blocks  "
      ],
      "metadata": {
        "id": "VEtrUfifYmqC"
      }
    },
    {
      "cell_type": "code",
      "source": [
        "with open(\"example.txt\", \"r\") as file:\n",
        "    content = file.read()\n",
        "    print(content)"
      ],
      "metadata": {
        "colab": {
          "base_uri": "https://localhost:8080/"
        },
        "id": "YId1otPTY0SN",
        "outputId": "7e8461d5-5a81-4a32-dc19-458a8df4462a"
      },
      "execution_count": null,
      "outputs": [
        {
          "output_type": "stream",
          "name": "stdout",
          "text": [
            "Hello, World!\n",
            " Hello, World!\n",
            " Hello, World!Append in file\n",
            "Hello, World!\n",
            "Append in file\n"
          ]
        }
      ]
    },
    {
      "cell_type": "markdown",
      "source": [
        "# Saving structured data with json"
      ],
      "metadata": {
        "id": "lA8sxkMPJFUl"
      }
    },
    {
      "cell_type": "markdown",
      "source": [
        "-- Strings can easily be written to and read from a file.   \n",
        "-- Numbers take a bit more effort, since the read() method only returns strings, which will have to be passed to a function like int(), which takes a string like '123' and returns its numeric value 123.  \n",
        "-- When you want to save more complex data types like nested lists and dictionaries,` parsing and serializing` by hand becomes complicated.  \n",
        "-- Rather than having users constantly writing and debugging code to save complicated data types to files, Python allows you to use the popular data interchange format called `JSON` (JavaScript Object Notation).  \n",
        "-- The standard module called json can take Python data hierarchies, and convert them to string representations; this process is called `serializing`.  \n",
        "-- Reconstructing the data from the string representation is called `deserializing`.  \n",
        "-- Between serializing and deserializing, the string representing the object may have been stored in a file or data, or sent over a network connection to some distant machine."
      ],
      "metadata": {
        "id": "G3nntkbCJjhk"
      }
    },
    {
      "cell_type": "code",
      "source": [
        "import json\n",
        "x = [1, 'simple', 'list']\n",
        "json.dumps(x)\n",
        "'[1, \"simple\", \"list\"]'"
      ],
      "metadata": {
        "colab": {
          "base_uri": "https://localhost:8080/",
          "height": 35
        },
        "id": "VhvBqle5MDBg",
        "outputId": "3770f2f8-3f45-48eb-f4f6-adaa087acf3b"
      },
      "execution_count": null,
      "outputs": [
        {
          "output_type": "execute_result",
          "data": {
            "text/plain": [
              "'[1, \"simple\", \"list\"]'"
            ],
            "application/vnd.google.colaboratory.intrinsic+json": {
              "type": "string"
            }
          },
          "metadata": {},
          "execution_count": 38
        }
      ]
    },
    {
      "cell_type": "code",
      "source": [
        "import json\n",
        "x = [1, 'simple', 'list']\n",
        "json.dumps(x)"
      ],
      "metadata": {
        "colab": {
          "base_uri": "https://localhost:8080/",
          "height": 35
        },
        "id": "0Xwppa3LMJtY",
        "outputId": "9e17c0da-92cf-4931-c283-7b2f6131c49b"
      },
      "execution_count": null,
      "outputs": [
        {
          "output_type": "execute_result",
          "data": {
            "text/plain": [
              "'[1, \"simple\", \"list\"]'"
            ],
            "application/vnd.google.colaboratory.intrinsic+json": {
              "type": "string"
            }
          },
          "metadata": {},
          "execution_count": 44
        }
      ]
    },
    {
      "cell_type": "code",
      "source": [
        "with open(\"example.txt\", \"w\") as f:\n",
        "    json.dump(x, f)"
      ],
      "metadata": {
        "id": "WTKtP_bAMWqp"
      },
      "execution_count": null,
      "outputs": []
    },
    {
      "cell_type": "code",
      "source": [
        "# read from example.txt by with method\n",
        "\n",
        "with open(\"example.txt\", \"r\") as file:\n",
        "    content = json.load(file)\n",
        "content"
      ],
      "metadata": {
        "colab": {
          "base_uri": "https://localhost:8080/"
        },
        "id": "UZ1ogfKCNIXU",
        "outputId": "c32a3f2f-22a4-431a-fa9a-7cb1cba29bfd"
      },
      "execution_count": null,
      "outputs": [
        {
          "output_type": "execute_result",
          "data": {
            "text/plain": [
              "[1, 'simple', 'list']"
            ]
          },
          "metadata": {},
          "execution_count": 50
        }
      ]
    },
    {
      "cell_type": "code",
      "source": [
        "#installing python-docx package\n",
        "\n",
        "!pip install python-docx"
      ],
      "metadata": {
        "colab": {
          "base_uri": "https://localhost:8080/"
        },
        "id": "rzPYe7ywEFt1",
        "outputId": "03c00484-057e-42bd-da1b-0ef3592e15fe"
      },
      "execution_count": null,
      "outputs": [
        {
          "output_type": "stream",
          "name": "stdout",
          "text": [
            "Collecting python-docx\n",
            "  Downloading python_docx-1.1.2-py3-none-any.whl.metadata (2.0 kB)\n",
            "Requirement already satisfied: lxml>=3.1.0 in /usr/local/lib/python3.10/dist-packages (from python-docx) (5.3.0)\n",
            "Requirement already satisfied: typing-extensions>=4.9.0 in /usr/local/lib/python3.10/dist-packages (from python-docx) (4.12.2)\n",
            "Downloading python_docx-1.1.2-py3-none-any.whl (244 kB)\n",
            "\u001b[2K   \u001b[90m━━━━━━━━━━━━━━━━━━━━━━━━━━━━━━━━━━━━━━━━\u001b[0m \u001b[32m244.3/244.3 kB\u001b[0m \u001b[31m3.3 MB/s\u001b[0m eta \u001b[36m0:00:00\u001b[0m\n",
            "\u001b[?25hInstalling collected packages: python-docx\n",
            "Successfully installed python-docx-1.1.2\n"
          ]
        }
      ]
    },
    {
      "cell_type": "code",
      "source": [
        "from docx import Document"
      ],
      "metadata": {
        "id": "ozV529zVD6FK"
      },
      "execution_count": null,
      "outputs": []
    },
    {
      "cell_type": "code",
      "source": [
        "# Open the .docx file\n",
        "doc = Document(\"example.docx\")\n",
        "\n",
        "# Read the content\n",
        "content = []\n",
        "for paragraph in doc.paragraphs:\n",
        "    content.append(paragraph.text)\n",
        "\n",
        "# Print the content\n",
        "print(\"\\n\".join(content))"
      ],
      "metadata": {
        "colab": {
          "base_uri": "https://localhost:8080/"
        },
        "id": "ixq--PulPl_0",
        "outputId": "225c9aa5-0765-44bb-a837-42352011b69b"
      },
      "execution_count": null,
      "outputs": [
        {
          "output_type": "stream",
          "name": "stdout",
          "text": [
            "Example reading form docx\n"
          ]
        }
      ]
    },
    {
      "cell_type": "markdown",
      "source": [
        "Example"
      ],
      "metadata": {
        "id": "C7B1ltk4YybI"
      }
    },
    {
      "cell_type": "markdown",
      "source": [
        "# Shop(Example)"
      ],
      "metadata": {
        "id": "wvhgefKqZQK9"
      }
    },
    {
      "cell_type": "markdown",
      "source": [
        "- Create a Product File: This file will store the product details.  \n",
        "- Add Products: Function to add new products to the file.  \n",
        "- View Products: Function to display all products.  \n",
        "- Purchase Products: Function to handle product purchases and update the stock."
      ],
      "metadata": {
        "id": "gZnm30NTZSro"
      }
    },
    {
      "cell_type": "markdown",
      "source": [
        "1. Create a Product File"
      ],
      "metadata": {
        "id": "qk99Kl-GZnoO"
      }
    },
    {
      "cell_type": "code",
      "source": [
        "# Create and initialize the product file\n",
        "with open(\"products.txt\", \"w\") as file:\n",
        "    file.write(\"1,Apple,10,50\\n\")\n",
        "    file.write(\"2,Banana,5,100\\n\")\n",
        "    file.write(\"3,Orange,8,75\\n\")"
      ],
      "metadata": {
        "id": "5KgxooDVZo0v"
      },
      "execution_count": null,
      "outputs": []
    },
    {
      "cell_type": "markdown",
      "source": [
        "2. Add Products"
      ],
      "metadata": {
        "id": "C0Y5jm3gZwM4"
      }
    },
    {
      "cell_type": "code",
      "source": [
        "def add_product(product_id, name, price, stock):\n",
        "    with open(\"products.txt\", \"a\") as file:\n",
        "        file.write(f\"{product_id},{name},{price},{stock}\\n\")\n",
        "    print(f\"Product {name} added successfully!\")\n",
        "\n",
        "# Example usage\n",
        "add_product(4, \"Grapes\", 15, 60)"
      ],
      "metadata": {
        "colab": {
          "base_uri": "https://localhost:8080/"
        },
        "id": "zK8xUn6BZxld",
        "outputId": "af9057a0-cdd9-4a3b-bfc1-5d74c55807da"
      },
      "execution_count": null,
      "outputs": [
        {
          "output_type": "stream",
          "name": "stdout",
          "text": [
            "Product Grapes added successfully!\n"
          ]
        }
      ]
    },
    {
      "cell_type": "markdown",
      "source": [
        "3. View Products"
      ],
      "metadata": {
        "id": "K2-JnGg4Z5Nr"
      }
    },
    {
      "cell_type": "code",
      "source": [
        "def view_products():\n",
        "    with open(\"products.txt\", \"r\") as file:\n",
        "        products = file.readlines()\n",
        "        print(\"ID, Name, Price, Stock\")\n",
        "        for product in products:\n",
        "            print(product.strip())\n",
        "\n",
        "# Example usage\n",
        "view_products()"
      ],
      "metadata": {
        "colab": {
          "base_uri": "https://localhost:8080/"
        },
        "id": "kK45ZxQRZ8u7",
        "outputId": "9fd05aab-1820-4530-e4c6-5b88b53440f1"
      },
      "execution_count": null,
      "outputs": [
        {
          "output_type": "stream",
          "name": "stdout",
          "text": [
            "ID, Name, Price, Stock\n",
            "1,Apple,10,50\n",
            "2,Banana,5,100\n",
            "3,Orange,8,75\n",
            "4,Grapes,15,60\n"
          ]
        }
      ]
    },
    {
      "cell_type": "markdown",
      "source": [
        "4. Purchase Products"
      ],
      "metadata": {
        "id": "mNdvlv3waBgG"
      }
    },
    {
      "cell_type": "code",
      "source": [
        "def purchase_product(product_id, quantity):\n",
        "    products = []\n",
        "    with open(\"products.txt\", \"r\") as file:\n",
        "        products = file.readlines()\n",
        "\n",
        "    with open(\"products.txt\", \"w\") as file:\n",
        "        for product in products:\n",
        "            prod_id, name, price, stock = product.strip().split(\",\")\n",
        "            if int(prod_id) == product_id:\n",
        "                if int(stock) >= quantity:\n",
        "                    stock = int(stock) - quantity\n",
        "                    print(f\"Purchased {quantity} {name}(s).\")\n",
        "                else:\n",
        "                    print(f\"Not enough stock for {name}.\")\n",
        "            file.write(f\"{prod_id},{name},{price},{stock}\\n\")\n",
        "\n",
        "# Example usage\n",
        "purchase_product(1, 5)\n",
        "view_products()"
      ],
      "metadata": {
        "id": "-WR9bUebaIDI",
        "outputId": "6ff1f0e6-47e4-4a67-bbd2-c6ae3fa482e8",
        "colab": {
          "base_uri": "https://localhost:8080/"
        }
      },
      "execution_count": null,
      "outputs": [
        {
          "output_type": "stream",
          "name": "stdout",
          "text": [
            "Purchased 5 Apple(s).\n",
            "ID, Name, Price, Stock\n",
            "1,Apple,10,45\n",
            "2,Banana,5,100\n",
            "3,Orange,8,75\n",
            "4,Grapes,15,60\n"
          ]
        }
      ]
    },
    {
      "cell_type": "markdown",
      "source": [
        "## Handling exception"
      ],
      "metadata": {
        "id": "pf5-IEuUIjRi"
      }
    },
    {
      "cell_type": "markdown",
      "source": [
        "### Errors"
      ],
      "metadata": {
        "id": "u_FZ2POaRU4a"
      }
    },
    {
      "cell_type": "markdown",
      "source": [
        "-- Errors are issues in the code that prevent the program from running correctly.  \n",
        "-- They are typically classified into two main types:  \n",
        "    -- Syntax Errors: occurs when the code does not follow the correct syntax of the Python language.  \n",
        "    -- Example:  \n",
        "    ```\n",
        "    if True\n",
        "    print(\"Hello\")\n",
        "    ```  \n",
        "    -- This will raise a SyntaxError because the colon (:) is missing after the if statement.  \n",
        "    -- Logical Errors: occur when the code runs without syntax errors but produces incorrect results due to a mistake in the logic.  \n",
        "    -- Example:  \n",
        "    -- result = 10 / 0  \n",
        "    ```\n",
        "    This will raise a ZeroDivisionError, which is a type of logical error.\n",
        "    ```  \n",
        "-- Exceptions: Exceptions are events that occur during the execution of a program that disrupt the normal flow of instructions. They are a subset of errors and can be handled using try and except blocks.  \n",
        "\n",
        "\n"
      ],
      "metadata": {
        "id": "b-VfLverRcZb"
      }
    },
    {
      "cell_type": "markdown",
      "source": [
        "In Python, exceptions are categorized into several types based on the nature of the error. Here are some of the main categories of built-in exceptions:  \n",
        "\n",
        "1. Arithmetic Errors  \n",
        "--- ArithmeticError: Base class for all arithmetic errors.  \n",
        "--- ZeroDivisionError: Raised when division or modulo by zero occurs.  \n",
        "--- OverflowError: Raised when the result of an arithmetic operation is too large to be expressed.  \n",
        "--- FloatingPointError: Raised when a floating-point operation fails.  \n",
        "2. Assertion Errors  \n",
        "--- AssertionError: Raised when an assert statement fails.  \n",
        "3. Attribute Errors  \n",
        "--- AttributeError: Raised when an attribute reference or assignment fails.  \n",
        "4. Buffer Errors  \n",
        "--- BufferError: Raised when a buffer-related operation cannot be performed.  \n",
        "5. EOF and I/O Errors  \n",
        "--- EOFError: Raised when the input() function hits an end-of-file condition.  \n",
        "--- IOError: Raised when an I/O operation fails (e.g., file not found or disk full).  \n",
        "6. Import Errors  \n",
        "--- ImportError: Raised when an import statement fails to find the module definition or when a from ... import fails.  \n",
        "--- ModuleNotFoundError: A subclass of ImportError that is raised when a module cannot be found.  \n",
        "7. Lookup Errors  \n",
        "--- LookupError: Base class for all lookup errors.  \n",
        "--- IndexError: Raised when a sequence subscript is out of range.  \n",
        "--- KeyError: Raised when a dictionary key is not found.  \n",
        "8. Name Errors  \n",
        "--- NameError: Raised when a local or global name is not found.  \n",
        "--- UnboundLocalError: A subclass of NameError raised when a local variable is referenced before it has been assigned a value.  \n",
        "9. OS Errors  \n",
        "--- OSError: Raised when a system-related operation causes an error (e.g., file not found, disk full).  \n",
        "--- FileNotFoundError: Raised when a file or directory is requested but doesn't exist.  \n",
        "--- PermissionError: Raised when trying to run an operation without the adequate access rights.  \n",
        "10. Runtime Errors  \n",
        "--- RuntimeError: Raised when an error is detected that doesn't fall in any of the other categories.  \n",
        "--- NotImplementedError: Raised when an abstract method that needs to be implemented in an inherited class is not actually implemented.  \n",
        "11. Syntax Errors  \n",
        "--- SyntaxError: Raised when the parser encounters a syntax error.  \n",
        "--- IndentationError: Raised when there is incorrect indentation.  \n",
        "--- TabError: Raised when indentation consists of inconsistent tabs and spaces.  \n",
        "12. Type Errors  \n",
        "--- TypeError: Raised when an operation or function is applied to an object of inappropriate type.  \n",
        "13. Value Errors  \n",
        "--- ValueError: Raised when a function receives an argument of the correct type but inappropriate value.  \n",
        "--- UnicodeError: Raised when a Unicode-related encoding or decoding error occurs.  \n",
        "--- UnicodeEncodeError: Raised when a Unicode-related error occurs during encoding.  \n",
        "--- UnicodeDecodeError: Raised when a Unicode-related error occurs during decoding.  \n",
        "--- UnicodeTranslateError: Raised when a Unicode-related error occurs during translation.  \n",
        "14. Warnings  \n",
        "--- Warning: Base class for warning categories.  \n",
        "--- DeprecationWarning: Raised for deprecated features.  \n",
        "--- FutureWarning: Raised for features that will change in the future.\n",
        "--- UserWarning: Raised for user-defined warnings.  \n"
      ],
      "metadata": {
        "id": "CCVkhPB0PcVi"
      }
    },
    {
      "cell_type": "markdown",
      "source": [
        "## Handling these built-in exception"
      ],
      "metadata": {
        "id": "cHsMoUnMW7J_"
      }
    },
    {
      "cell_type": "markdown",
      "source": [
        "-- These exceptions can be handl by using built-in try .... except technique  \n"
      ],
      "metadata": {
        "id": "w28F-8b9XAZs"
      }
    },
    {
      "cell_type": "markdown",
      "source": [
        "# Examples"
      ],
      "metadata": {
        "id": "8f4F_LmeWEnk"
      }
    },
    {
      "cell_type": "markdown",
      "source": [
        "### ZeroDivisionError: Raised when you try to divide by zero."
      ],
      "metadata": {
        "id": "MP89MjbjWG21"
      }
    },
    {
      "cell_type": "code",
      "source": [
        "try:\n",
        "  result = 10 / 0:\n",
        "except ZeroDivisionError as e:\n",
        "  print(f\"Error: {e}\")"
      ],
      "metadata": {
        "colab": {
          "base_uri": "https://localhost:8080/",
          "height": 106
        },
        "id": "hjmVA5s2WNnM",
        "outputId": "c9e8101a-ef4f-47d6-be4f-b23fa1028643"
      },
      "execution_count": null,
      "outputs": [
        {
          "output_type": "error",
          "ename": "SyntaxError",
          "evalue": "invalid syntax (<ipython-input-52-282fba631d0d>, line 2)",
          "traceback": [
            "\u001b[0;36m  File \u001b[0;32m\"<ipython-input-52-282fba631d0d>\"\u001b[0;36m, line \u001b[0;32m2\u001b[0m\n\u001b[0;31m    result = 10 / 0:\u001b[0m\n\u001b[0m                   ^\u001b[0m\n\u001b[0;31mSyntaxError\u001b[0m\u001b[0;31m:\u001b[0m invalid syntax\n"
          ]
        }
      ]
    },
    {
      "cell_type": "markdown",
      "source": [
        "### FileNotFoundError: Raised when a file or directory is requested but doesn't exist.\n",
        "\n"
      ],
      "metadata": {
        "id": "lRtKmNn02Ez6"
      }
    },
    {
      "cell_type": "code",
      "source": [
        "try:\n",
        "    with open('non_existent_file.txt', 'r') as file:\n",
        "        content = file.read()\n",
        "except FileNotFoundError as e:\n",
        "    print(f\"Error: {e}\")"
      ],
      "metadata": {
        "colab": {
          "base_uri": "https://localhost:8080/"
        },
        "id": "h_93tu7_2Mih",
        "outputId": "6437a03d-35a7-443c-f33e-f4e4285b782e"
      },
      "execution_count": 1,
      "outputs": [
        {
          "output_type": "stream",
          "name": "stdout",
          "text": [
            "Error: [Errno 2] No such file or directory: 'non_existent_file.txt'\n"
          ]
        }
      ]
    }
  ]
}