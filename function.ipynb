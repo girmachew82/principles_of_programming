{
  "nbformat": 4,
  "nbformat_minor": 0,
  "metadata": {
    "colab": {
      "provenance": [],
      "authorship_tag": "ABX9TyMyxPL6yzKiq5kdYmy1Z1Qm",
      "include_colab_link": true
    },
    "kernelspec": {
      "name": "python3",
      "display_name": "Python 3"
    },
    "language_info": {
      "name": "python"
    }
  },
  "cells": [
    {
      "cell_type": "markdown",
      "metadata": {
        "id": "view-in-github",
        "colab_type": "text"
      },
      "source": [
        "<a href=\"https://colab.research.google.com/github/girmachew82/principles_of_programming/blob/main/function.ipynb\" target=\"_parent\"><img src=\"https://colab.research.google.com/assets/colab-badge.svg\" alt=\"Open In Colab\"/></a>"
      ]
    },
    {
      "cell_type": "markdown",
      "source": [
        "#                          Debre Berhan University\n",
        "#                          College of Computing\n",
        "#                          Department of Sofware Engineering\n",
        "#                          Principle of Programming\n",
        "#                          SEng 2021\n",
        "#                          01/01/2025\n",
        "\n"
      ],
      "metadata": {
        "id": "99bvXpw9xbCy"
      }
    },
    {
      "cell_type": "markdown",
      "source": [
        "# **Functions in Python**\n",
        "## **Contents**\n",
        "-- Introduction  \n",
        "-- Paremeter and argument  \n",
        "-- Using function  \n",
        "-- Varible scope  \n",
        "-- Standard Function  \n",
        "-- Module  \n",
        "-- Turtle in function  \n",
        "\n",
        "---  \n",
        "\n",
        "## **Learning Outcomes**\n",
        "-- Understand basic of function  \n",
        "-- Describe when to use function  \n",
        "-- Solve problems by following modular approach  \n",
        "-- Debugging python program  \n",
        "-- Test python code  \n",
        "\n",
        "\n",
        "---\n",
        "\n",
        "\n",
        "\n"
      ],
      "metadata": {
        "id": "rMVJYjqMiYMr"
      }
    },
    {
      "cell_type": "markdown",
      "source": [
        "## **Introduction about function**"
      ],
      "metadata": {
        "id": "7Mp_2PUckF7s"
      }
    },
    {
      "cell_type": "markdown",
      "source": [
        "-- It is a block of code defined for a specific task  \n",
        "-- It is action implementation of a problem  \n",
        "-- It use to develop easily maintainable code  \n",
        "-- It helps to develop reusable code  \n",
        "-- It can be defined once and reuse as many as wanted(DRY)  \n",
        "-- It helps to break down large program into small independent tasks  \n",
        "-- It can be defined with parameters or without it  \n",
        "-- A function may call itself repeatedly which is called *recursive function*   \n",
        "-- It can be built-in or programmer/user defined  \n",
        "-- The execution of a function introduces a new *symbol table* used for the local variables of the function.  \n",
        "-- Variable references: *local* symbol table ⇒ *enclosing* functions ⇒ *global* symbol table ⇒ the table of* built-in* names.  \n",
        "-- Global variables and variables of enclosing functions cannot be directly assigned a value within a function  \n",
        "-- Global variables, named in a `global` statement\n",
        "Variables of enclosing functions, named in a `nonlocal` statement\n"
      ],
      "metadata": {
        "id": "6Fg-fgdZlKme"
      }
    },
    {
      "cell_type": "markdown",
      "source": [
        "## Built-in Functions"
      ],
      "metadata": {
        "id": "G8m9Qu84IiOg"
      }
    },
    {
      "cell_type": "markdown",
      "source": [
        "-- They are either in standard or third-party libraries  \n",
        "-- Simply call or invoke them and perform operations  \n",
        "-- String Functions:` len(), str(), format(), split(), join() `  \n",
        "-- Numeric Functions: `abs(), round(), max(), min(), sum() `  \n",
        "-- Type Conversion Functions: `int(), float(), str(), list(), tuple() `   \n",
        "-- Collection Functions: `len(), sorted(), reversed(), enumerate(), zip()`    \n",
        "-- Input/Output Functions: `print(), input(), open(), read(), write()`  \n",
        "-- Functional Programming: `map(), filter(), reduce(), lambda `    \n",
        "-- Miscellaneous: `help(), dir(), id(), type(), isinstance()`  \n"
      ],
      "metadata": {
        "id": "2iapwi0vIqTY"
      }
    },
    {
      "cell_type": "markdown",
      "source": [
        "## Programmer defined function"
      ],
      "metadata": {
        "id": "f5dUCGbPLQvt"
      }
    },
    {
      "cell_type": "markdown",
      "source": [
        "-- `def` is a keyword used to define a function followed by function name with parenthesized parameter  \n",
        "-- Function name should be descriptive and snack case  \n",
        "-- The body of function must be ***Indentated***  \n",
        "-- The first line of the function optionally can be ***docstring***   \n",
        "-- Function can be defined inside a function which is called nested function\n",
        "  #Syntax:  \n",
        "`def` function_name(parameter/s):  \n",
        "  body  \n",
        "Or  \n",
        "function can be anonymous, which is defined by `lambda` expression\n",
        "\n"
      ],
      "metadata": {
        "id": "iy4W585pLZn1"
      }
    },
    {
      "cell_type": "code",
      "source": [
        "def sequar(a):\n",
        "  return a * a\n",
        "\n",
        "print(sequar(2))"
      ],
      "metadata": {
        "colab": {
          "base_uri": "https://localhost:8080/"
        },
        "id": "D3W3KQ9yNLT2",
        "outputId": "b475beaf-2bdc-49c7-d170-8fd0c68d3d6a"
      },
      "execution_count": null,
      "outputs": [
        {
          "output_type": "stream",
          "name": "stdout",
          "text": [
            "4\n"
          ]
        }
      ]
    },
    {
      "cell_type": "code",
      "source": [
        "x = lambda a : a * a\n",
        "print(x(2))"
      ],
      "metadata": {
        "colab": {
          "base_uri": "https://localhost:8080/"
        },
        "id": "Ju80xZAmMuju",
        "outputId": "3a5d1093-af28-4e65-cc53-ba99ccf9d276"
      },
      "execution_count": null,
      "outputs": [
        {
          "output_type": "stream",
          "name": "stdout",
          "text": [
            "4\n"
          ]
        }
      ]
    },
    {
      "cell_type": "markdown",
      "source": [
        "## Functions That Print (Procedures)"
      ],
      "metadata": {
        "id": "1MiPsIaHO_k6"
      }
    },
    {
      "cell_type": "markdown",
      "source": [
        "-- These functions perform an action, such as printing to the console, but do not return a value.  \n",
        "-- They are typically used when you need to produce a side effect (like displaying information) but do not require any output for further computation."
      ],
      "metadata": {
        "id": "EkwKANSaPXJq"
      }
    },
    {
      "cell_type": "markdown",
      "source": [
        "Function definition"
      ],
      "metadata": {
        "id": "0k1tNQyAQFHA"
      }
    },
    {
      "cell_type": "code",
      "source": [
        "def hello():\n",
        "  print(\"Hello World\")\n"
      ],
      "metadata": {
        "id": "2xYGJZQxPf4z"
      },
      "execution_count": null,
      "outputs": []
    },
    {
      "cell_type": "markdown",
      "source": [
        "\n",
        "\n",
        "---\n",
        "\n"
      ],
      "metadata": {
        "id": "aSO10HRpP5Sk"
      }
    },
    {
      "cell_type": "markdown",
      "source": [
        "Function call"
      ],
      "metadata": {
        "id": "nYwuHQz3P-zx"
      }
    },
    {
      "cell_type": "code",
      "source": [
        "hello()\n",
        "hello()\n",
        "hello()\n",
        "hello()"
      ],
      "metadata": {
        "colab": {
          "base_uri": "https://localhost:8080/"
        },
        "id": "uhX3owg0P9-g",
        "outputId": "fe906d5f-9465-4e66-e605-3fb98325fc39"
      },
      "execution_count": null,
      "outputs": [
        {
          "output_type": "stream",
          "name": "stdout",
          "text": [
            "Hello World\n",
            "Hello World\n",
            "Hello World\n",
            "Hello World\n"
          ]
        }
      ]
    },
    {
      "cell_type": "markdown",
      "source": [
        "## Functions That Return a Value"
      ],
      "metadata": {
        "id": "dgJDqkxTQahB"
      }
    },
    {
      "cell_type": "markdown",
      "source": [
        "-- These functions perform a computation or process and return a value to the caller.  \n",
        "-- The returned value can be used for further processing or stored in a variable.  \n",
        "-- These functions are essential for tasks where the output of the function is needed for additional operations"
      ],
      "metadata": {
        "id": "FlKQ_HGWQfXi"
      }
    },
    {
      "cell_type": "markdown",
      "source": [
        "Function definition"
      ],
      "metadata": {
        "id": "QnsUO1phQ-uy"
      }
    },
    {
      "cell_type": "code",
      "source": [
        "def hello():\n",
        "  return \"Hello World\""
      ],
      "metadata": {
        "id": "QCMV43_zRLcZ"
      },
      "execution_count": null,
      "outputs": []
    },
    {
      "cell_type": "markdown",
      "source": [
        "Function call"
      ],
      "metadata": {
        "id": "_Tui2KlBRQjP"
      }
    },
    {
      "cell_type": "code",
      "source": [
        "hello()"
      ],
      "metadata": {
        "colab": {
          "base_uri": "https://localhost:8080/"
        },
        "id": "cY2bgrFxRUQo",
        "outputId": "9b97f31f-2095-40e9-a59c-f4cba9bea447"
      },
      "execution_count": null,
      "outputs": [
        {
          "output_type": "stream",
          "name": "stdout",
          "text": [
            "Hello World\n"
          ]
        }
      ]
    },
    {
      "cell_type": "markdown",
      "source": [
        "Function assign to a variable"
      ],
      "metadata": {
        "id": "z9NWMn0yRatq"
      }
    },
    {
      "cell_type": "code",
      "source": [
        "h  = hello()"
      ],
      "metadata": {
        "colab": {
          "base_uri": "https://localhost:8080/"
        },
        "id": "LfQG8mS3ReRI",
        "outputId": "f731c201-8f6a-460a-ab25-0ad401fc3d53"
      },
      "execution_count": null,
      "outputs": [
        {
          "output_type": "stream",
          "name": "stdout",
          "text": [
            "Hello World\n"
          ]
        }
      ]
    },
    {
      "cell_type": "markdown",
      "source": [
        "## **Parameters and Arguments**"
      ],
      "metadata": {
        "id": "hh5nKjyXkNuP"
      }
    },
    {
      "cell_type": "markdown",
      "source": [
        "\n",
        "\n",
        "---\n",
        "\n"
      ],
      "metadata": {
        "id": "sonbwWMCQwoh"
      }
    },
    {
      "cell_type": "markdown",
      "source": [
        "-- Parameters are any type of variables listed inside the parentheses in the function definition.  \n",
        "-- They act as placeholders for the values that will be passed to the function when it is called."
      ],
      "metadata": {
        "id": "Cq9wBBx0SXyX"
      }
    },
    {
      "cell_type": "markdown",
      "source": [
        "### Example"
      ],
      "metadata": {
        "id": "JOswLWzLS002"
      }
    },
    {
      "cell_type": "code",
      "source": [
        "# Here, name is a parameter.\n",
        "\n",
        "def greet(name):\n",
        "    print(f\"Hello, {name}!\")"
      ],
      "metadata": {
        "id": "Bu81Dq9NSvjm"
      },
      "execution_count": null,
      "outputs": []
    },
    {
      "cell_type": "markdown",
      "source": [
        "-- Arguments are the actual values passed to the function when it is called.  \n",
        "-- These values are assigned to the corresponding parameters.\n"
      ],
      "metadata": {
        "id": "QEpBu0cZTZjE"
      }
    },
    {
      "cell_type": "code",
      "source": [
        "# Function call\n",
        "\n",
        "greet(\"Alice\") # Here, \"Alice\" is an argument."
      ],
      "metadata": {
        "colab": {
          "base_uri": "https://localhost:8080/"
        },
        "id": "TIhGUhNYTJD2",
        "outputId": "06dead9b-7180-4676-f6f8-e0df2ebe86d0"
      },
      "execution_count": null,
      "outputs": [
        {
          "output_type": "stream",
          "name": "stdout",
          "text": [
            "Hello, Alice!\n"
          ]
        }
      ]
    },
    {
      "cell_type": "markdown",
      "source": [
        "## Types of Parameters and Arguments"
      ],
      "metadata": {
        "id": "Wfrs1hRYUNz-"
      }
    },
    {
      "cell_type": "markdown",
      "source": [
        "1. Standard (positional or keyword)  \n",
        "2. Variable number of  positional parameters(*Args)  \n",
        "3. Variable number of keyword parameters(**kwArgs)  \n",
        "4. Positional parameters only(/)  \n",
        "5. Keyword parameters only(*)  \n",
        "6. Combined; parameter, standard and keyword\n",
        "Default Value  \n"
      ],
      "metadata": {
        "id": "rwXOapLjUQee"
      }
    },
    {
      "cell_type": "markdown",
      "source": [
        "1. Standard (positional or keyword)  "
      ],
      "metadata": {
        "id": "EiKuXMe8Uv-v"
      }
    },
    {
      "cell_type": "markdown",
      "source": [
        "Functions defined without parameter or with parameter/s"
      ],
      "metadata": {
        "id": "DPm82aj0Xd9t"
      }
    },
    {
      "cell_type": "code",
      "source": [
        "# This function prints a greeting message that includes the provided name.\n",
        "# It takes one parameter:\n",
        "# name: The name of the person to greet.\n",
        "\n",
        "def greeting(name):\n",
        "    print(\"Hello,\", name)"
      ],
      "metadata": {
        "id": "FPS-7BKuYNy7"
      },
      "execution_count": null,
      "outputs": []
    },
    {
      "cell_type": "code",
      "source": [
        "greeting(\"Samuael\") # Output: Hello, Samuael\n",
        "greeting(\"Aster\") # Output: Hello, Aster"
      ],
      "metadata": {
        "colab": {
          "base_uri": "https://localhost:8080/"
        },
        "id": "J5_SZDYkY7YU",
        "outputId": "10344001-d6c2-4244-f611-2b1e0432a372"
      },
      "execution_count": null,
      "outputs": [
        {
          "output_type": "stream",
          "name": "stdout",
          "text": [
            "Hello, Samuael\n",
            "Hello, Aster\n"
          ]
        }
      ]
    },
    {
      "cell_type": "code",
      "source": [
        "# This function prints a greeting message.\n",
        "# It does not take any parameters.\n",
        "\n",
        "def greeting():\n",
        "    print(\"Hello\")"
      ],
      "metadata": {
        "id": "0BEGGTMDXBpx"
      },
      "execution_count": null,
      "outputs": []
    },
    {
      "cell_type": "code",
      "source": [
        "greeting() # Output: Hello\n",
        "greeting() # Output: Hello"
      ],
      "metadata": {
        "colab": {
          "base_uri": "https://localhost:8080/"
        },
        "id": "oJVMvZogXN3_",
        "outputId": "8f2496c7-5b8b-4af9-a17e-b0eff22b49bc"
      },
      "execution_count": null,
      "outputs": [
        {
          "output_type": "stream",
          "name": "stdout",
          "text": [
            "Hello\n",
            "Hello\n"
          ]
        }
      ]
    },
    {
      "cell_type": "markdown",
      "source": [
        "When to call a function there must be corresponding argument numbers"
      ],
      "metadata": {
        "id": "-st2lKCGzBFk"
      }
    },
    {
      "cell_type": "code",
      "source": [
        "def greeting(name):\n",
        "    print(\"Hello,\", name)"
      ],
      "metadata": {
        "id": "pR0DJJoFzEpH"
      },
      "execution_count": null,
      "outputs": []
    },
    {
      "cell_type": "code",
      "source": [
        "greeting()"
      ],
      "metadata": {
        "colab": {
          "base_uri": "https://localhost:8080/",
          "height": 141
        },
        "id": "Irah6uB1zQmP",
        "outputId": "d4dbddc9-0cfe-4539-ad38-a1600031d2c8"
      },
      "execution_count": null,
      "outputs": [
        {
          "output_type": "error",
          "ename": "TypeError",
          "evalue": "greeting() missing 1 required positional argument: 'name'",
          "traceback": [
            "\u001b[0;31m---------------------------------------------------------------------------\u001b[0m",
            "\u001b[0;31mTypeError\u001b[0m                                 Traceback (most recent call last)",
            "\u001b[0;32m<ipython-input-2-3ffcd7d44b66>\u001b[0m in \u001b[0;36m<cell line: 1>\u001b[0;34m()\u001b[0m\n\u001b[0;32m----> 1\u001b[0;31m \u001b[0mgreeting\u001b[0m\u001b[0;34m(\u001b[0m\u001b[0;34m)\u001b[0m\u001b[0;34m\u001b[0m\u001b[0;34m\u001b[0m\u001b[0m\n\u001b[0m",
            "\u001b[0;31mTypeError\u001b[0m: greeting() missing 1 required positional argument: 'name'"
          ]
        }
      ]
    },
    {
      "cell_type": "code",
      "source": [
        "greeting(\"Ayel\",\"Lemma\",\"Kebede\")"
      ],
      "metadata": {
        "colab": {
          "base_uri": "https://localhost:8080/",
          "height": 141
        },
        "id": "jqNM4NTZzf_u",
        "outputId": "269188bc-bb6f-4133-edc3-48867697a424"
      },
      "execution_count": null,
      "outputs": [
        {
          "output_type": "error",
          "ename": "TypeError",
          "evalue": "greeting() takes 1 positional argument but 3 were given",
          "traceback": [
            "\u001b[0;31m---------------------------------------------------------------------------\u001b[0m",
            "\u001b[0;31mTypeError\u001b[0m                                 Traceback (most recent call last)",
            "\u001b[0;32m<ipython-input-3-570b11667b4a>\u001b[0m in \u001b[0;36m<cell line: 1>\u001b[0;34m()\u001b[0m\n\u001b[0;32m----> 1\u001b[0;31m \u001b[0mgreeting\u001b[0m\u001b[0;34m(\u001b[0m\u001b[0;34m\"Ayel\"\u001b[0m\u001b[0;34m,\u001b[0m\u001b[0;34m\"Lemma\"\u001b[0m\u001b[0;34m,\u001b[0m\u001b[0;34m\"Kebede\"\u001b[0m\u001b[0;34m)\u001b[0m\u001b[0;34m\u001b[0m\u001b[0;34m\u001b[0m\u001b[0m\n\u001b[0m",
            "\u001b[0;31mTypeError\u001b[0m: greeting() takes 1 positional argument but 3 were given"
          ]
        }
      ]
    },
    {
      "cell_type": "markdown",
      "source": [
        "2. Variable number of positional parameters"
      ],
      "metadata": {
        "id": "5VlZuRsR0Eij"
      }
    },
    {
      "cell_type": "markdown",
      "source": [
        "-- Define parameter start by * most commonly it is defined as  *args  \n",
        "-- Arguments must be in positional only  \n",
        "-- Argument can not be keyword  \n",
        "-- Empty argument is allowed"
      ],
      "metadata": {
        "id": "NMZcHCqt0IJx"
      }
    },
    {
      "cell_type": "markdown",
      "source": [
        "Syntax"
      ],
      "metadata": {
        "id": "0G0y7ZY30Pxu"
      }
    },
    {
      "cell_type": "markdown",
      "source": [
        "`def` function_name(*parameters):  \n",
        "\t# body  "
      ],
      "metadata": {
        "id": "71royTtW0SOE"
      }
    },
    {
      "cell_type": "markdown",
      "source": [
        "-- def is a key word used to define a function  \n",
        "-- function_name is any descriptive name given to a function except keyword  \n",
        "-- * is a symbol used to define variable parameter/argument  \n",
        "-- parameters is can be any valid varible name the commen one names as  *args  \n"
      ],
      "metadata": {
        "id": "Ww5YcrYiN01g"
      }
    },
    {
      "cell_type": "markdown",
      "source": [
        "Example"
      ],
      "metadata": {
        "id": "GsREO7750aln"
      }
    },
    {
      "cell_type": "code",
      "source": [
        "def say_hobbies(*hobbies):\n",
        "    \"\"\"\n",
        "    Print a list of hobbies.\n",
        "\n",
        "    Parameters:\n",
        "    hobbies (str): A variable number of hobby names.\n",
        "\n",
        "    Returns:\n",
        "    None\n",
        "    \"\"\"\n",
        "    print(\"My hobbies\")\n",
        "    for hobby in hobbies:\n",
        "        print(\"- \", hobby)"
      ],
      "metadata": {
        "id": "gidQdXzP0h3H"
      },
      "execution_count": null,
      "outputs": []
    },
    {
      "cell_type": "markdown",
      "source": [
        "Function call"
      ],
      "metadata": {
        "id": "NozKpOWv0l2e"
      }
    },
    {
      "cell_type": "code",
      "source": [
        "say_hobbies(\"Reading books\", \"Watching TV\", \"Playing football\", \"Travelling\")"
      ],
      "metadata": {
        "colab": {
          "base_uri": "https://localhost:8080/"
        },
        "id": "cm8RihJ00ngf",
        "outputId": "8d42598e-a8ef-4748-888e-dab56e91fcb7"
      },
      "execution_count": null,
      "outputs": [
        {
          "output_type": "stream",
          "name": "stdout",
          "text": [
            "My hobbies\n",
            "-  Reading books\n",
            "-  Watching TV\n",
            "-  Playing football\n",
            "-  Travelling\n"
          ]
        }
      ]
    },
    {
      "cell_type": "code",
      "source": [
        "say_hobbies"
      ],
      "metadata": {
        "colab": {
          "base_uri": "https://localhost:8080/",
          "height": 187
        },
        "id": "LHcJi0e_1nrd",
        "outputId": "b1ddd16c-b3b2-4289-d611-928a69f6cd36"
      },
      "execution_count": null,
      "outputs": [
        {
          "output_type": "execute_result",
          "data": {
            "text/plain": [
              "<function __main__.say_hobbies(*hobbies)>"
            ],
            "text/html": [
              "<div style=\"max-width:800px; border: 1px solid var(--colab-border-color);\"><style>\n",
              "      pre.function-repr-contents {\n",
              "        overflow-x: auto;\n",
              "        padding: 8px 12px;\n",
              "        max-height: 500px;\n",
              "      }\n",
              "\n",
              "      pre.function-repr-contents.function-repr-contents-collapsed {\n",
              "        cursor: pointer;\n",
              "        max-height: 100px;\n",
              "      }\n",
              "    </style>\n",
              "    <pre style=\"white-space: initial; background:\n",
              "         var(--colab-secondary-surface-color); padding: 8px 12px;\n",
              "         border-bottom: 1px solid var(--colab-border-color);\"><b>say_hobbies</b><br/>def say_hobbies(*hobbies)</pre><pre class=\"function-repr-contents function-repr-contents-collapsed\" style=\"\"><a class=\"filepath\" style=\"display:none\" href=\"#\">/content/&lt;ipython-input-6-b29f9b8581d4&gt;</a>Print a list of hobbies.\n",
              "\n",
              "Parameters:\n",
              "hobbies (str): A variable number of hobby names.\n",
              "\n",
              "Returns:\n",
              "None</pre></div>"
            ]
          },
          "metadata": {},
          "execution_count": 7
        }
      ]
    },
    {
      "cell_type": "code",
      "source": [
        "say_hobbies()"
      ],
      "metadata": {
        "colab": {
          "base_uri": "https://localhost:8080/"
        },
        "id": "tuvVYDEJ1t7d",
        "outputId": "3a9de614-c4e2-4be1-ecab-142866220b2a"
      },
      "execution_count": null,
      "outputs": [
        {
          "output_type": "stream",
          "name": "stdout",
          "text": [
            "My hobbies\n"
          ]
        }
      ]
    },
    {
      "cell_type": "code",
      "source": [
        "say_hobbies(One=\"Reading books\", Two=\"Watching TV\", Three=\"Playing football\", Four=\"Travelling\")"
      ],
      "metadata": {
        "colab": {
          "base_uri": "https://localhost:8080/",
          "height": 141
        },
        "id": "Gr8pH7WH2cJ-",
        "outputId": "0f8f5714-58d2-4eac-f9a2-3e68064fee7d"
      },
      "execution_count": null,
      "outputs": [
        {
          "output_type": "error",
          "ename": "TypeError",
          "evalue": "say_hobbies() got an unexpected keyword argument 'One'",
          "traceback": [
            "\u001b[0;31m---------------------------------------------------------------------------\u001b[0m",
            "\u001b[0;31mTypeError\u001b[0m                                 Traceback (most recent call last)",
            "\u001b[0;32m<ipython-input-9-f9a0531a55e7>\u001b[0m in \u001b[0;36m<cell line: 1>\u001b[0;34m()\u001b[0m\n\u001b[0;32m----> 1\u001b[0;31m \u001b[0msay_hobbies\u001b[0m\u001b[0;34m(\u001b[0m\u001b[0mOne\u001b[0m\u001b[0;34m=\u001b[0m\u001b[0;34m\"Reading books\"\u001b[0m\u001b[0;34m,\u001b[0m \u001b[0mTwo\u001b[0m\u001b[0;34m=\u001b[0m\u001b[0;34m\"Watching TV\"\u001b[0m\u001b[0;34m,\u001b[0m \u001b[0mThree\u001b[0m\u001b[0;34m=\u001b[0m\u001b[0;34m\"Playing football\"\u001b[0m\u001b[0;34m,\u001b[0m \u001b[0mFour\u001b[0m\u001b[0;34m=\u001b[0m\u001b[0;34m\"Travelling\"\u001b[0m\u001b[0;34m)\u001b[0m\u001b[0;34m\u001b[0m\u001b[0;34m\u001b[0m\u001b[0m\n\u001b[0m",
            "\u001b[0;31mTypeError\u001b[0m: say_hobbies() got an unexpected keyword argument 'One'"
          ]
        }
      ]
    },
    {
      "cell_type": "markdown",
      "source": [
        "3. Variable number of keyword parameters"
      ],
      "metadata": {
        "id": "4zDVSnyF2zh8"
      }
    },
    {
      "cell_type": "markdown",
      "source": [
        "-- Function parameter start with ** and commonly named as **kwAgrs  \n",
        "-- Arguments must be in key value pair (key=value)  \n",
        "-- Argument can not be positional   \n",
        "-- Empty argument is allowed\n"
      ],
      "metadata": {
        "id": "9aJeh0U13EKW"
      }
    },
    {
      "cell_type": "markdown",
      "source": [
        "Syntax  \n",
        "def function_name(**parameters):  \n",
        "\t# body  "
      ],
      "metadata": {
        "id": "9LejqJML3Ih8"
      }
    },
    {
      "cell_type": "markdown",
      "source": [
        "-- def is a key word used to define a function  \n",
        "-- function_name is any descriptive name given to a function except keyword  \n",
        "-- ** are symbols used to define variable parameter/argument  \n",
        "-- parameters is can be any valid varible name the commen one names as  **kwargs  \n"
      ],
      "metadata": {
        "id": "wfuZvyBFOmqh"
      }
    },
    {
      "cell_type": "markdown",
      "source": [
        "Exmaple"
      ],
      "metadata": {
        "id": "XAApEJqE3Q1e"
      }
    },
    {
      "cell_type": "code",
      "source": [
        "def say_hobbies(**hobbies):\n",
        "    print(\"My hobbies\")\n",
        "    for hobby in hobbies:\n",
        "        print(print(hobby,':',hobbies[hobby]))"
      ],
      "metadata": {
        "id": "IFQ_XdsQ3T_c"
      },
      "execution_count": null,
      "outputs": []
    },
    {
      "cell_type": "markdown",
      "source": [
        "Function call"
      ],
      "metadata": {
        "id": "8D_EGHlK3eiU"
      }
    },
    {
      "cell_type": "code",
      "source": [
        "say_hobbies(One=\"Reading books\", Two=\"Watching TV\", Three=\"Playing football\", Four=\"Travelling\")"
      ],
      "metadata": {
        "colab": {
          "base_uri": "https://localhost:8080/"
        },
        "id": "86ACXDkr3d3h",
        "outputId": "0a29a77b-da7b-41f8-b171-bbe0bdd80063"
      },
      "execution_count": null,
      "outputs": [
        {
          "output_type": "stream",
          "name": "stdout",
          "text": [
            "My hobbies\n",
            "One : Reading books\n",
            "None\n",
            "Two : Watching TV\n",
            "None\n",
            "Three : Playing football\n",
            "None\n",
            "Four : Travelling\n",
            "None\n"
          ]
        }
      ]
    },
    {
      "cell_type": "code",
      "source": [
        "say_hobbies"
      ],
      "metadata": {
        "colab": {
          "base_uri": "https://localhost:8080/",
          "height": 104
        },
        "id": "bQa9X7zV3xck",
        "outputId": "bd0ed431-c245-41df-d51b-3f02a4790537"
      },
      "execution_count": null,
      "outputs": [
        {
          "output_type": "execute_result",
          "data": {
            "text/plain": [
              "<function __main__.say_hobbies(**hobbies)>"
            ],
            "text/html": [
              "<div style=\"max-width:800px; border: 1px solid var(--colab-border-color);\"><style>\n",
              "      pre.function-repr-contents {\n",
              "        overflow-x: auto;\n",
              "        padding: 8px 12px;\n",
              "        max-height: 500px;\n",
              "      }\n",
              "\n",
              "      pre.function-repr-contents.function-repr-contents-collapsed {\n",
              "        cursor: pointer;\n",
              "        max-height: 100px;\n",
              "      }\n",
              "    </style>\n",
              "    <pre style=\"white-space: initial; background:\n",
              "         var(--colab-secondary-surface-color); padding: 8px 12px;\n",
              "         border-bottom: 1px solid var(--colab-border-color);\"><b>say_hobbies</b><br/>def say_hobbies(**hobbies)</pre><pre class=\"function-repr-contents function-repr-contents-collapsed\" style=\"\"><a class=\"filepath\" style=\"display:none\" href=\"#\">/content/&lt;ipython-input-10-77cb235ff380&gt;</a>&lt;no docstring&gt;</pre></div>"
            ]
          },
          "metadata": {},
          "execution_count": 12
        }
      ]
    },
    {
      "cell_type": "code",
      "source": [
        "say_hobbies()"
      ],
      "metadata": {
        "colab": {
          "base_uri": "https://localhost:8080/"
        },
        "id": "MGfKGOAI34xU",
        "outputId": "813157f5-f20a-43b0-e708-036bcde523ab"
      },
      "execution_count": null,
      "outputs": [
        {
          "output_type": "stream",
          "name": "stdout",
          "text": [
            "My hobbies\n"
          ]
        }
      ]
    },
    {
      "cell_type": "code",
      "source": [
        "say_hobbies(\"Reading books\", \"Watching TV\", \"Playing football\", \"Travelling\")"
      ],
      "metadata": {
        "colab": {
          "base_uri": "https://localhost:8080/",
          "height": 141
        },
        "id": "NmxWqkEW4Qa7",
        "outputId": "bbf43aa9-ab79-49e6-a489-561b43ce0eef"
      },
      "execution_count": null,
      "outputs": [
        {
          "output_type": "error",
          "ename": "TypeError",
          "evalue": "say_hobbies() takes 0 positional arguments but 4 were given",
          "traceback": [
            "\u001b[0;31m---------------------------------------------------------------------------\u001b[0m",
            "\u001b[0;31mTypeError\u001b[0m                                 Traceback (most recent call last)",
            "\u001b[0;32m<ipython-input-14-558fb4cda027>\u001b[0m in \u001b[0;36m<cell line: 1>\u001b[0;34m()\u001b[0m\n\u001b[0;32m----> 1\u001b[0;31m \u001b[0msay_hobbies\u001b[0m\u001b[0;34m(\u001b[0m\u001b[0;34m\"Reading books\"\u001b[0m\u001b[0;34m,\u001b[0m \u001b[0;34m\"Watching TV\"\u001b[0m\u001b[0;34m,\u001b[0m \u001b[0;34m\"Playing football\"\u001b[0m\u001b[0;34m,\u001b[0m \u001b[0;34m\"Travelling\"\u001b[0m\u001b[0;34m)\u001b[0m\u001b[0;34m\u001b[0m\u001b[0;34m\u001b[0m\u001b[0m\n\u001b[0m",
            "\u001b[0;31mTypeError\u001b[0m: say_hobbies() takes 0 positional arguments but 4 were given"
          ]
        }
      ]
    },
    {
      "cell_type": "markdown",
      "source": [
        "4.  positional parameter only(/)  "
      ],
      "metadata": {
        "id": "RDWq3LXb5bhk"
      }
    },
    {
      "cell_type": "markdown",
      "source": [
        "-- / is a symbol used to specify argument/s is/are positional only  \n",
        "-- if there is mix of parameters / can be after wherever needed parameter/s to be positional only  \n",
        "-- Only one / is allowed in a function definition, all before / are positional  \n",
        "-- parameter defined as positional only can not accept keyword argument  \n"
      ],
      "metadata": {
        "id": "m45VcLHV5e90"
      }
    },
    {
      "cell_type": "markdown",
      "source": [
        "Syntax"
      ],
      "metadata": {
        "id": "ICTcFVVh5l_X"
      }
    },
    {
      "cell_type": "markdown",
      "source": [
        "`def` function_name(parameter 1, parameter 2, … parameter n, /):  \n",
        "\t# body"
      ],
      "metadata": {
        "id": "7ua-c_-F5ng9"
      }
    },
    {
      "cell_type": "markdown",
      "source": [
        "Example"
      ],
      "metadata": {
        "id": "mH6IQDnh50pN"
      }
    },
    {
      "cell_type": "code",
      "source": [
        "def greeting(name,/):\n",
        "    print(\"Hello,\", name)"
      ],
      "metadata": {
        "id": "ZBV9lhqr51xq"
      },
      "execution_count": null,
      "outputs": []
    },
    {
      "cell_type": "markdown",
      "source": [
        "Function call"
      ],
      "metadata": {
        "id": "5Mv9sV1I526j"
      }
    },
    {
      "cell_type": "code",
      "source": [
        "greeting(\"Samuael\")\n"
      ],
      "metadata": {
        "colab": {
          "base_uri": "https://localhost:8080/"
        },
        "id": "RJ3SDDwA570o",
        "outputId": "5509c029-a051-4d20-ef3d-1ceb8af4fc9c"
      },
      "execution_count": null,
      "outputs": [
        {
          "output_type": "stream",
          "name": "stdout",
          "text": [
            "Hello, Samuael\n"
          ]
        }
      ]
    },
    {
      "cell_type": "code",
      "source": [
        "greeting(name=\"Samuael\")"
      ],
      "metadata": {
        "colab": {
          "base_uri": "https://localhost:8080/",
          "height": 141
        },
        "id": "91TiDcQu7esV",
        "outputId": "64666f98-1365-4afc-ac99-e4ca0680044f"
      },
      "execution_count": null,
      "outputs": [
        {
          "output_type": "error",
          "ename": "TypeError",
          "evalue": "greeting() got some positional-only arguments passed as keyword arguments: 'name'",
          "traceback": [
            "\u001b[0;31m---------------------------------------------------------------------------\u001b[0m",
            "\u001b[0;31mTypeError\u001b[0m                                 Traceback (most recent call last)",
            "\u001b[0;32m<ipython-input-20-041029c427b0>\u001b[0m in \u001b[0;36m<cell line: 1>\u001b[0;34m()\u001b[0m\n\u001b[0;32m----> 1\u001b[0;31m \u001b[0mgreeting\u001b[0m\u001b[0;34m(\u001b[0m\u001b[0mname\u001b[0m\u001b[0;34m=\u001b[0m\u001b[0;34m\"Samuael\"\u001b[0m\u001b[0;34m)\u001b[0m\u001b[0;34m\u001b[0m\u001b[0;34m\u001b[0m\u001b[0m\n\u001b[0m",
            "\u001b[0;31mTypeError\u001b[0m: greeting() got some positional-only arguments passed as keyword arguments: 'name'"
          ]
        }
      ]
    },
    {
      "cell_type": "markdown",
      "source": [
        "Positional and not positional parameter"
      ],
      "metadata": {
        "id": "L8kOKfqM6TAR"
      }
    },
    {
      "cell_type": "code",
      "source": [
        "def detail(name, /, age):\n",
        "    \"\"\"\n",
        "    Print the name and age of a person.\n",
        "\n",
        "    Parameters:\n",
        "    name (str): The name of the person.\n",
        "    age (int): The age of the person.\n",
        "\n",
        "    Returns:\n",
        "    None\n",
        "    \"\"\"\n",
        "    print(\"Name:\", name)\n",
        "    print(\"Age:\", age)"
      ],
      "metadata": {
        "id": "WnsUL3Ak6Vl4"
      },
      "execution_count": null,
      "outputs": []
    },
    {
      "cell_type": "markdown",
      "source": [
        "\n",
        "\n",
        "```\n",
        "Function call\n",
        "```\n",
        "\n"
      ],
      "metadata": {
        "id": "nhs6a1Rx6wPi"
      }
    },
    {
      "cell_type": "code",
      "source": [
        "detail(\"Samuael\", age=25)"
      ],
      "metadata": {
        "colab": {
          "base_uri": "https://localhost:8080/"
        },
        "id": "MZab7wof6uUl",
        "outputId": "35fdfa3e-6e4b-485c-83ad-fea5d8360623"
      },
      "execution_count": null,
      "outputs": [
        {
          "output_type": "stream",
          "name": "stdout",
          "text": [
            "Name: Samuael\n",
            "Age: 25\n"
          ]
        }
      ]
    },
    {
      "cell_type": "code",
      "source": [
        "detail(\"Samuael\", 25)"
      ],
      "metadata": {
        "colab": {
          "base_uri": "https://localhost:8080/"
        },
        "id": "ANfzOzjQ8MNF",
        "outputId": "93d2fccb-c0dc-4ce8-b4cd-d0d72362bab6"
      },
      "execution_count": null,
      "outputs": [
        {
          "output_type": "stream",
          "name": "stdout",
          "text": [
            "Name: Samuael\n",
            "Age: 25\n"
          ]
        }
      ]
    },
    {
      "cell_type": "markdown",
      "source": [
        "Only / is neccessary in a function definition"
      ],
      "metadata": {
        "id": "O_cEvJut8bUE"
      }
    },
    {
      "cell_type": "code",
      "source": [
        "def detail(name,/, age, /, phone):\n",
        "    print(\"Name:\", name)\n",
        "    print(\"Age:\", age)\n",
        "    print(\"Phone:\", phone)"
      ],
      "metadata": {
        "colab": {
          "base_uri": "https://localhost:8080/",
          "height": 106
        },
        "id": "zMYkca4C8hqJ",
        "outputId": "35a70a15-e9a1-499d-df0c-e7408ebdc769"
      },
      "execution_count": null,
      "outputs": [
        {
          "output_type": "error",
          "ename": "SyntaxError",
          "evalue": "invalid syntax (<ipython-input-22-d8d806abc192>, line 1)",
          "traceback": [
            "\u001b[0;36m  File \u001b[0;32m\"<ipython-input-22-d8d806abc192>\"\u001b[0;36m, line \u001b[0;32m1\u001b[0m\n\u001b[0;31m    def detail(name,/, age, /, phone):\u001b[0m\n\u001b[0m                            ^\u001b[0m\n\u001b[0;31mSyntaxError\u001b[0m\u001b[0;31m:\u001b[0m invalid syntax\n"
          ]
        }
      ]
    },
    {
      "cell_type": "markdown",
      "source": [
        "5.  keyword only(*)"
      ],
      "metadata": {
        "id": "-uBxKEO98rES"
      }
    },
    {
      "cell_type": "markdown",
      "source": [
        "-- * must be at the beginning of wherever parameter/s to be keyword only  \n",
        "-- Only one * is allowed in a function definition, all after * are keyword argument   \n",
        "-- Arguments must pass as `key = value` pair separated by comma  \n",
        "-- keyword/s is/are case sensative"
      ],
      "metadata": {
        "id": "KKixR3oU85-O"
      }
    },
    {
      "cell_type": "markdown",
      "source": [
        "```\n",
        "Syntax  \n",
        "def function_name( * , parameter 1,parameter 2, … parameter n )\n",
        "\t# body\n",
        "```"
      ],
      "metadata": {
        "id": "W7SVGcOU9AIL"
      }
    },
    {
      "cell_type": "markdown",
      "source": [
        "Example"
      ],
      "metadata": {
        "id": "YaRAmN6_9bJy"
      }
    },
    {
      "cell_type": "code",
      "source": [
        "def detail(*,name, age, phone):\n",
        "    print(\"Name:\", name)\n",
        "    print(\"Age:\", age)\n",
        "    print(\"Phone:\", phone)"
      ],
      "metadata": {
        "id": "bHEtC7GP9cgc"
      },
      "execution_count": null,
      "outputs": []
    },
    {
      "cell_type": "markdown",
      "source": [
        "Function call"
      ],
      "metadata": {
        "id": "zE7jeN9G9edT"
      }
    },
    {
      "cell_type": "code",
      "source": [
        "detail(name=\"Samueal\", age=25, phone=\"0950505050\")"
      ],
      "metadata": {
        "colab": {
          "base_uri": "https://localhost:8080/"
        },
        "id": "-nKNBg-59f9V",
        "outputId": "c4bed40b-8b4f-43fd-a470-1b4e018456c2"
      },
      "execution_count": null,
      "outputs": [
        {
          "output_type": "stream",
          "name": "stdout",
          "text": [
            "Name: Samueal\n",
            "Age: 25\n",
            "Phone: 0950505050\n"
          ]
        }
      ]
    },
    {
      "cell_type": "code",
      "source": [
        "detail(\"Samueal\", 25, \"0950505050\")\n"
      ],
      "metadata": {
        "colab": {
          "base_uri": "https://localhost:8080/",
          "height": 141
        },
        "id": "9m2P3S8R9nGl",
        "outputId": "56b4456c-f1ee-4029-dde3-995baf712828"
      },
      "execution_count": null,
      "outputs": [
        {
          "output_type": "error",
          "ename": "TypeError",
          "evalue": "detail() takes 0 positional arguments but 3 were given",
          "traceback": [
            "\u001b[0;31m---------------------------------------------------------------------------\u001b[0m",
            "\u001b[0;31mTypeError\u001b[0m                                 Traceback (most recent call last)",
            "\u001b[0;32m<ipython-input-25-e42abb339107>\u001b[0m in \u001b[0;36m<cell line: 1>\u001b[0;34m()\u001b[0m\n\u001b[0;32m----> 1\u001b[0;31m \u001b[0mdetail\u001b[0m\u001b[0;34m(\u001b[0m\u001b[0;34m\"Samueal\"\u001b[0m\u001b[0;34m,\u001b[0m \u001b[0;36m25\u001b[0m\u001b[0;34m,\u001b[0m \u001b[0;34m\"0950505050\"\u001b[0m\u001b[0;34m)\u001b[0m\u001b[0;34m\u001b[0m\u001b[0;34m\u001b[0m\u001b[0m\n\u001b[0m",
            "\u001b[0;31mTypeError\u001b[0m: detail() takes 0 positional arguments but 3 were given"
          ]
        }
      ]
    },
    {
      "cell_type": "markdown",
      "source": [
        "Even one of the arguments can not be positional"
      ],
      "metadata": {
        "id": "1FbFdYu3-Pq7"
      }
    },
    {
      "cell_type": "code",
      "source": [
        "detail(\"Samueal\", age=25, phone=\"0950505050\")"
      ],
      "metadata": {
        "colab": {
          "base_uri": "https://localhost:8080/",
          "height": 141
        },
        "id": "7dk1oHs6-VvG",
        "outputId": "731b9691-0a9e-4a68-95bf-6350d6fd0376"
      },
      "execution_count": null,
      "outputs": [
        {
          "output_type": "error",
          "ename": "TypeError",
          "evalue": "detail() takes 0 positional arguments but 1 positional argument (and 2 keyword-only arguments) were given",
          "traceback": [
            "\u001b[0;31m---------------------------------------------------------------------------\u001b[0m",
            "\u001b[0;31mTypeError\u001b[0m                                 Traceback (most recent call last)",
            "\u001b[0;32m<ipython-input-26-400446c06a1d>\u001b[0m in \u001b[0;36m<cell line: 1>\u001b[0;34m()\u001b[0m\n\u001b[0;32m----> 1\u001b[0;31m \u001b[0mdetail\u001b[0m\u001b[0;34m(\u001b[0m\u001b[0;34m\"Samueal\"\u001b[0m\u001b[0;34m,\u001b[0m \u001b[0mage\u001b[0m\u001b[0;34m=\u001b[0m\u001b[0;36m25\u001b[0m\u001b[0;34m,\u001b[0m \u001b[0mphone\u001b[0m\u001b[0;34m=\u001b[0m\u001b[0;34m\"0950505050\"\u001b[0m\u001b[0;34m)\u001b[0m\u001b[0;34m\u001b[0m\u001b[0;34m\u001b[0m\u001b[0m\n\u001b[0m",
            "\u001b[0;31mTypeError\u001b[0m: detail() takes 0 positional arguments but 1 positional argument (and 2 keyword-only arguments) were given"
          ]
        }
      ]
    },
    {
      "cell_type": "markdown",
      "source": [
        "```\n",
        "only one * and it must be at the beginning unless error will happen\n",
        "```"
      ],
      "metadata": {
        "id": "PQ51XWpS-sRz"
      }
    },
    {
      "cell_type": "code",
      "source": [
        "def detail(*,name, *, age, phone):\n",
        "    print(\"Name:\", name)\n",
        "    print(\"Age:\", age)\n",
        "    print(\"Phone:\", phone)"
      ],
      "metadata": {
        "colab": {
          "base_uri": "https://localhost:8080/",
          "height": 106
        },
        "id": "B0QF4rdi-wzN",
        "outputId": "081e9cff-ae5f-4f79-fb02-11400d995700"
      },
      "execution_count": null,
      "outputs": [
        {
          "output_type": "error",
          "ename": "SyntaxError",
          "evalue": "invalid syntax (<ipython-input-27-4ba5009a5fd4>, line 1)",
          "traceback": [
            "\u001b[0;36m  File \u001b[0;32m\"<ipython-input-27-4ba5009a5fd4>\"\u001b[0;36m, line \u001b[0;32m1\u001b[0m\n\u001b[0;31m    def detail(*,name, *, age, phone):\u001b[0m\n\u001b[0m                       ^\u001b[0m\n\u001b[0;31mSyntaxError\u001b[0m\u001b[0;31m:\u001b[0m invalid syntax\n"
          ]
        }
      ]
    },
    {
      "cell_type": "code",
      "source": [
        "def detail(phone, *,name, age):\n",
        "    print(\"Name:\", name)\n",
        "    print(\"Age:\", age)\n",
        "    print(\"Phone:\", phone)"
      ],
      "metadata": {
        "id": "T4uSuRy2_mfP"
      },
      "execution_count": null,
      "outputs": []
    },
    {
      "cell_type": "code",
      "source": [
        "detail(\"0920202020\", name=\"Samuael\", age=23)"
      ],
      "metadata": {
        "colab": {
          "base_uri": "https://localhost:8080/"
        },
        "id": "DN3JbzmF_tT9",
        "outputId": "e4ad7daa-faf8-44ba-9418-da62b3306545"
      },
      "execution_count": null,
      "outputs": [
        {
          "output_type": "stream",
          "name": "stdout",
          "text": [
            "Name: Samuael\n",
            "Age: 23\n",
            "Phone: 0920202020\n"
          ]
        }
      ]
    },
    {
      "cell_type": "markdown",
      "source": [
        "```\n",
        "key must be without quotation\n",
        "```"
      ],
      "metadata": {
        "id": "xJwQlcmNBIv9"
      }
    },
    {
      "cell_type": "code",
      "source": [
        "def detail(*,name, age, phone):\n",
        "    print(\"Name:\", name)\n",
        "    print(\"Age:\", age)\n",
        "    print(\"Phone:\", phone)"
      ],
      "metadata": {
        "id": "_C-b-wDkBP7B"
      },
      "execution_count": null,
      "outputs": []
    },
    {
      "cell_type": "code",
      "source": [
        "detail(\"name\"=\"Samuael\", 25, 920202020)"
      ],
      "metadata": {
        "colab": {
          "base_uri": "https://localhost:8080/",
          "height": 106
        },
        "id": "AERX1bI7Bet_",
        "outputId": "818a1f7d-4158-4f7f-df25-7ce3ab1e0289"
      },
      "execution_count": null,
      "outputs": [
        {
          "output_type": "error",
          "ename": "SyntaxError",
          "evalue": "expression cannot contain assignment, perhaps you meant \"==\"? (<ipython-input-34-2d9a828b2da3>, line 1)",
          "traceback": [
            "\u001b[0;36m  File \u001b[0;32m\"<ipython-input-34-2d9a828b2da3>\"\u001b[0;36m, line \u001b[0;32m1\u001b[0m\n\u001b[0;31m    detail(\"name\"=\"Samuael\", 25, 920202020)\u001b[0m\n\u001b[0m           ^\u001b[0m\n\u001b[0;31mSyntaxError\u001b[0m\u001b[0;31m:\u001b[0m expression cannot contain assignment, perhaps you meant \"==\"?\n"
          ]
        }
      ]
    },
    {
      "cell_type": "markdown",
      "source": [
        "```\n",
        "keyword/s is/are case sensative\n",
        "```"
      ],
      "metadata": {
        "id": "rylYlPZoB9O2"
      }
    },
    {
      "cell_type": "code",
      "source": [
        "def detail(*,name, age, phone):\n",
        "    print(\"Name:\", name)\n",
        "    print(\"Age:\", age)\n",
        "    print(\"Phone:\", phone)\n",
        "\n",
        "detail(Name=\"Samueal\", age=25, phone=\"0950505050\")"
      ],
      "metadata": {
        "colab": {
          "base_uri": "https://localhost:8080/",
          "height": 176
        },
        "id": "wJ-Vp4q2CCyK",
        "outputId": "7894ce03-de94-4a0b-a702-e91194870d42"
      },
      "execution_count": null,
      "outputs": [
        {
          "output_type": "error",
          "ename": "TypeError",
          "evalue": "detail() got an unexpected keyword argument 'Name'",
          "traceback": [
            "\u001b[0;31m---------------------------------------------------------------------------\u001b[0m",
            "\u001b[0;31mTypeError\u001b[0m                                 Traceback (most recent call last)",
            "\u001b[0;32m<ipython-input-35-125382740b99>\u001b[0m in \u001b[0;36m<cell line: 6>\u001b[0;34m()\u001b[0m\n\u001b[1;32m      4\u001b[0m     \u001b[0mprint\u001b[0m\u001b[0;34m(\u001b[0m\u001b[0;34m\"Phone:\"\u001b[0m\u001b[0;34m,\u001b[0m \u001b[0mphone\u001b[0m\u001b[0;34m)\u001b[0m\u001b[0;34m\u001b[0m\u001b[0;34m\u001b[0m\u001b[0m\n\u001b[1;32m      5\u001b[0m \u001b[0;34m\u001b[0m\u001b[0m\n\u001b[0;32m----> 6\u001b[0;31m \u001b[0mdetail\u001b[0m\u001b[0;34m(\u001b[0m\u001b[0mName\u001b[0m\u001b[0;34m=\u001b[0m\u001b[0;34m\"Samueal\"\u001b[0m\u001b[0;34m,\u001b[0m \u001b[0mAge\u001b[0m\u001b[0;34m=\u001b[0m\u001b[0;36m25\u001b[0m\u001b[0;34m,\u001b[0m \u001b[0mPhone\u001b[0m\u001b[0;34m=\u001b[0m\u001b[0;34m\"0950505050\"\u001b[0m\u001b[0;34m)\u001b[0m\u001b[0;34m\u001b[0m\u001b[0;34m\u001b[0m\u001b[0m\n\u001b[0m",
            "\u001b[0;31mTypeError\u001b[0m: detail() got an unexpected keyword argument 'Name'"
          ]
        }
      ]
    },
    {
      "cell_type": "markdown",
      "source": [
        "6. Combined parameter positional, standard and keyword"
      ],
      "metadata": {
        "id": "HIKHZ29ICbUI"
      }
    },
    {
      "cell_type": "markdown",
      "source": [
        "-- / must be before * and standard can be in between of them    \n",
        "-- positional must be positional  \n",
        "-- standard an be either positional or keyword  \n",
        "-- keyword must be in key=value pair  \n",
        "\n",
        "\n",
        "\n"
      ],
      "metadata": {
        "id": "vP3s3c2qCdCB"
      }
    },
    {
      "cell_type": "markdown",
      "source": [
        "```\n",
        "Syntax\n",
        "def function_name(parameter, / , standard, * , keyword)\n",
        "\t# body\n",
        "```"
      ],
      "metadata": {
        "id": "Q39-dC_KCmJj"
      }
    },
    {
      "cell_type": "markdown",
      "source": [
        "Example"
      ],
      "metadata": {
        "id": "3Z_xjtfVCwYg"
      }
    },
    {
      "cell_type": "code",
      "source": [
        "def detail(name,/,age, *,phone):\n",
        "    print(\"Name:\", name)\n",
        "    print(\"Age:\", age)\n",
        "    print(\"Phone:\", phone)"
      ],
      "metadata": {
        "id": "Db2WMRBgCxfz"
      },
      "execution_count": null,
      "outputs": []
    },
    {
      "cell_type": "markdown",
      "source": [
        "Function call"
      ],
      "metadata": {
        "id": "Q7hfrVvVCzSM"
      }
    },
    {
      "cell_type": "code",
      "source": [
        "detail(\"Samueal\", age=25, phone=\"0950505050\")"
      ],
      "metadata": {
        "colab": {
          "base_uri": "https://localhost:8080/"
        },
        "id": "ubAGe_9YC02P",
        "outputId": "9b2dc05c-67e1-43a7-cfa0-507591ffebcc"
      },
      "execution_count": null,
      "outputs": [
        {
          "output_type": "stream",
          "name": "stdout",
          "text": [
            "Name: Samueal\n",
            "Age: 25\n",
            "Phone: 0950505050\n"
          ]
        }
      ]
    },
    {
      "cell_type": "code",
      "source": [
        "detail(name = \"Samueal\", age=25, phone=\"0950505050\")"
      ],
      "metadata": {
        "colab": {
          "base_uri": "https://localhost:8080/",
          "height": 141
        },
        "id": "FXGc4pGGC7nu",
        "outputId": "6f50e3eb-b854-436e-b0e3-6ecc23d67dda"
      },
      "execution_count": null,
      "outputs": [
        {
          "output_type": "error",
          "ename": "TypeError",
          "evalue": "detail() got some positional-only arguments passed as keyword arguments: 'name'",
          "traceback": [
            "\u001b[0;31m---------------------------------------------------------------------------\u001b[0m",
            "\u001b[0;31mTypeError\u001b[0m                                 Traceback (most recent call last)",
            "\u001b[0;32m<ipython-input-38-ea02eafcafd5>\u001b[0m in \u001b[0;36m<cell line: 1>\u001b[0;34m()\u001b[0m\n\u001b[0;32m----> 1\u001b[0;31m \u001b[0mdetail\u001b[0m\u001b[0;34m(\u001b[0m\u001b[0mname\u001b[0m\u001b[0;34m=\u001b[0m \u001b[0;34m\"Samueal\"\u001b[0m\u001b[0;34m,\u001b[0m \u001b[0mage\u001b[0m\u001b[0;34m=\u001b[0m\u001b[0;36m25\u001b[0m\u001b[0;34m,\u001b[0m \u001b[0mphone\u001b[0m\u001b[0;34m=\u001b[0m\u001b[0;34m\"0950505050\"\u001b[0m\u001b[0;34m)\u001b[0m\u001b[0;34m\u001b[0m\u001b[0;34m\u001b[0m\u001b[0m\n\u001b[0m",
            "\u001b[0;31mTypeError\u001b[0m: detail() got some positional-only arguments passed as keyword arguments: 'name'"
          ]
        }
      ]
    },
    {
      "cell_type": "code",
      "source": [
        "detail(\"Samueal\", 25, phone=\"0950505050\")"
      ],
      "metadata": {
        "colab": {
          "base_uri": "https://localhost:8080/"
        },
        "id": "1bONqn6pDEQB",
        "outputId": "f9de8933-a81f-4842-e1ff-e3b10162c74f"
      },
      "execution_count": null,
      "outputs": [
        {
          "output_type": "stream",
          "name": "stdout",
          "text": [
            "Name: Samueal\n",
            "Age: 25\n",
            "Phone: 0950505050\n"
          ]
        }
      ]
    },
    {
      "cell_type": "code",
      "source": [
        "detail(\"Samueal\", age=25, \"0950505050\")"
      ],
      "metadata": {
        "colab": {
          "base_uri": "https://localhost:8080/",
          "height": 106
        },
        "id": "tBg-_1dbDIy1",
        "outputId": "11f160ba-7f11-4c4d-cfe1-4345724ec7af"
      },
      "execution_count": null,
      "outputs": [
        {
          "output_type": "error",
          "ename": "SyntaxError",
          "evalue": "positional argument follows keyword argument (<ipython-input-40-7d3d509f234c>, line 1)",
          "traceback": [
            "\u001b[0;36m  File \u001b[0;32m\"<ipython-input-40-7d3d509f234c>\"\u001b[0;36m, line \u001b[0;32m1\u001b[0m\n\u001b[0;31m    detail(\"Samueal\", age=25, \"0950505050\")\u001b[0m\n\u001b[0m                                          ^\u001b[0m\n\u001b[0;31mSyntaxError\u001b[0m\u001b[0;31m:\u001b[0m positional argument follows keyword argument\n"
          ]
        }
      ]
    },
    {
      "cell_type": "markdown",
      "source": [
        "7. Default value"
      ],
      "metadata": {
        "id": "Xc31VxJzEBY7"
      }
    },
    {
      "cell_type": "markdown",
      "source": [
        "-- When the function is defined sometimes default values are necessary  \n",
        "-- If default value is initialized when a function is called those values and be optional  \n",
        "-- Default value will initialize after positional or keyword parameter\n"
      ],
      "metadata": {
        "id": "pdpICBkVECVN"
      }
    },
    {
      "cell_type": "markdown",
      "source": [
        "Example"
      ],
      "metadata": {
        "id": "QNGK28ibEsgZ"
      }
    },
    {
      "cell_type": "code",
      "source": [
        "def greeting(name, great=\"Good Morning\"):\n",
        "    print(great,',',name)"
      ],
      "metadata": {
        "id": "UkKKE8uCEvty"
      },
      "execution_count": null,
      "outputs": []
    },
    {
      "cell_type": "markdown",
      "source": [
        "```\n",
        "function call\n",
        "```"
      ],
      "metadata": {
        "id": "DHaiyw26E3pH"
      }
    },
    {
      "cell_type": "code",
      "source": [
        "greeting(\"Samueal\") # give only mandatory argument"
      ],
      "metadata": {
        "colab": {
          "base_uri": "https://localhost:8080/"
        },
        "id": "h6NeeCdQE7ab",
        "outputId": "c0867926-6279-4b73-b0c9-ff878b56e955"
      },
      "execution_count": null,
      "outputs": [
        {
          "output_type": "stream",
          "name": "stdout",
          "text": [
            "Hello, Samueal\n"
          ]
        }
      ]
    },
    {
      "cell_type": "code",
      "source": [
        "greeting(\"Samuael\",great=\"Good afternoon\") # give mandatory and optional arguments"
      ],
      "metadata": {
        "colab": {
          "base_uri": "https://localhost:8080/"
        },
        "id": "2WblX-bCFFas",
        "outputId": "10a7ee9c-4ce9-4740-97d7-6cfda1f950ec"
      },
      "execution_count": null,
      "outputs": [
        {
          "output_type": "stream",
          "name": "stdout",
          "text": [
            "Good afternoon , Samuael\n"
          ]
        }
      ]
    },
    {
      "cell_type": "code",
      "source": [
        "greeting(great='Good Evening',\"Yohannes\")"
      ],
      "metadata": {
        "colab": {
          "base_uri": "https://localhost:8080/",
          "height": 106
        },
        "id": "npul3fhfGUYC",
        "outputId": "563ff7e2-b3c7-4878-c40f-8775a3b32812"
      },
      "execution_count": null,
      "outputs": [
        {
          "output_type": "error",
          "ename": "SyntaxError",
          "evalue": "positional argument follows keyword argument (<ipython-input-46-1ad3a3a863cc>, line 1)",
          "traceback": [
            "\u001b[0;36m  File \u001b[0;32m\"<ipython-input-46-1ad3a3a863cc>\"\u001b[0;36m, line \u001b[0;32m1\u001b[0m\n\u001b[0;31m    greeting(great='Good Evening',\"Yohannes\")\u001b[0m\n\u001b[0m                                            ^\u001b[0m\n\u001b[0;31mSyntaxError\u001b[0m\u001b[0;31m:\u001b[0m positional argument follows keyword argument\n"
          ]
        }
      ]
    },
    {
      "cell_type": "markdown",
      "source": [
        "## **Using function**"
      ],
      "metadata": {
        "id": "y3036hIhkUCi"
      }
    },
    {
      "cell_type": "markdown",
      "source": [
        "-- It helps in **code reusability**, **modularity**, and **readability**.  \n",
        "-- So, to have such advantages program using function is important  \n",
        "-- Functions can be either built-in or programmer/user defined  \n"
      ],
      "metadata": {
        "id": "rEZPpW9vErX2"
      }
    },
    {
      "cell_type": "markdown",
      "source": [
        "## **Variable scope**"
      ],
      "metadata": {
        "id": "8gZt6w4bkYfO"
      }
    },
    {
      "cell_type": "markdown",
      "source": [
        "-- Scope is the lifetime or the visibility of a variable  \n",
        "-- Scope can be:  \n",
        "    --- **local:** Variable defined inside a function  \n",
        "    --- **Enclosing:** Defined in nested function.  \n",
        "    --- **Global:** Defined outside a function    \n",
        "    --- **Built-in:** Python’s built-in functions and variables.  \n"
      ],
      "metadata": {
        "id": "gtxyAPNJG0iv"
      }
    },
    {
      "cell_type": "markdown",
      "source": [
        "### Local"
      ],
      "metadata": {
        "id": "WAFGC5DaKDZC"
      }
    },
    {
      "cell_type": "code",
      "source": [
        "# a, b and c are local\n",
        "def add():\n",
        "  a = 5\n",
        "  b = 5\n",
        "  c = a + b\n",
        "  return c"
      ],
      "metadata": {
        "id": "9qu19jnXKGLY"
      },
      "execution_count": null,
      "outputs": []
    },
    {
      "cell_type": "code",
      "source": [
        "add()"
      ],
      "metadata": {
        "colab": {
          "base_uri": "https://localhost:8080/"
        },
        "id": "sIMNT9yWKdJF",
        "outputId": "947ce006-574b-4b9e-d049-35d4208c0dfc"
      },
      "execution_count": null,
      "outputs": [
        {
          "output_type": "execute_result",
          "data": {
            "text/plain": [
              "10"
            ]
          },
          "metadata": {},
          "execution_count": 40
        }
      ]
    },
    {
      "cell_type": "code",
      "source": [
        "print(\"a = \",a)"
      ],
      "metadata": {
        "colab": {
          "base_uri": "https://localhost:8080/",
          "height": 141
        },
        "id": "azM_tHAuSIWe",
        "outputId": "2631ea1a-efd3-4736-8b63-11f6109c1d82"
      },
      "execution_count": null,
      "outputs": [
        {
          "output_type": "error",
          "ename": "NameError",
          "evalue": "name 'a' is not defined",
          "traceback": [
            "\u001b[0;31m---------------------------------------------------------------------------\u001b[0m",
            "\u001b[0;31mNameError\u001b[0m                                 Traceback (most recent call last)",
            "\u001b[0;32m<ipython-input-41-02f952efcdf2>\u001b[0m in \u001b[0;36m<cell line: 1>\u001b[0;34m()\u001b[0m\n\u001b[0;32m----> 1\u001b[0;31m \u001b[0mprint\u001b[0m\u001b[0;34m(\u001b[0m\u001b[0;34m\"a = \"\u001b[0m\u001b[0;34m,\u001b[0m\u001b[0ma\u001b[0m\u001b[0;34m)\u001b[0m\u001b[0;34m\u001b[0m\u001b[0;34m\u001b[0m\u001b[0m\n\u001b[0m",
            "\u001b[0;31mNameError\u001b[0m: name 'a' is not defined"
          ]
        }
      ]
    },
    {
      "cell_type": "markdown",
      "source": [
        "### Enclosing"
      ],
      "metadata": {
        "id": "3TXy6wkqKyVC"
      }
    },
    {
      "cell_type": "code",
      "source": [
        "def outer():\n",
        "    x = 10\n",
        "    def inner():\n",
        "      print(x)\n",
        "    inner()"
      ],
      "metadata": {
        "id": "LRcfa_FEK4Ax"
      },
      "execution_count": null,
      "outputs": []
    },
    {
      "cell_type": "code",
      "source": [
        "outer()"
      ],
      "metadata": {
        "colab": {
          "base_uri": "https://localhost:8080/"
        },
        "id": "GbHT89vbLHkf",
        "outputId": "3b731858-9040-4ff7-b964-9becf03e91b2"
      },
      "execution_count": null,
      "outputs": [
        {
          "output_type": "stream",
          "name": "stdout",
          "text": [
            "10\n"
          ]
        }
      ]
    },
    {
      "cell_type": "code",
      "source": [
        "x"
      ],
      "metadata": {
        "colab": {
          "base_uri": "https://localhost:8080/",
          "height": 141
        },
        "id": "2k6JAq4mSXh7",
        "outputId": "bd4e3825-e49f-46e2-82be-899a6a861508"
      },
      "execution_count": null,
      "outputs": [
        {
          "output_type": "error",
          "ename": "NameError",
          "evalue": "name 'x' is not defined",
          "traceback": [
            "\u001b[0;31m---------------------------------------------------------------------------\u001b[0m",
            "\u001b[0;31mNameError\u001b[0m                                 Traceback (most recent call last)",
            "\u001b[0;32m<ipython-input-48-6fcf9dfbd479>\u001b[0m in \u001b[0;36m<cell line: 1>\u001b[0;34m()\u001b[0m\n\u001b[0;32m----> 1\u001b[0;31m \u001b[0mx\u001b[0m\u001b[0;34m\u001b[0m\u001b[0;34m\u001b[0m\u001b[0m\n\u001b[0m",
            "\u001b[0;31mNameError\u001b[0m: name 'x' is not defined"
          ]
        }
      ]
    },
    {
      "cell_type": "code",
      "source": [
        "inner()"
      ],
      "metadata": {
        "colab": {
          "base_uri": "https://localhost:8080/",
          "height": 141
        },
        "id": "EuErhBQILM3q",
        "outputId": "75a12649-354c-4891-fb3f-d72b80db9ba4"
      },
      "execution_count": null,
      "outputs": [
        {
          "output_type": "error",
          "ename": "NameError",
          "evalue": "name 'inner' is not defined",
          "traceback": [
            "\u001b[0;31m---------------------------------------------------------------------------\u001b[0m",
            "\u001b[0;31mNameError\u001b[0m                                 Traceback (most recent call last)",
            "\u001b[0;32m<ipython-input-6-bc10f1654870>\u001b[0m in \u001b[0;36m<cell line: 1>\u001b[0;34m()\u001b[0m\n\u001b[0;32m----> 1\u001b[0;31m \u001b[0minner\u001b[0m\u001b[0;34m(\u001b[0m\u001b[0;34m)\u001b[0m\u001b[0;34m\u001b[0m\u001b[0;34m\u001b[0m\u001b[0m\n\u001b[0m",
            "\u001b[0;31mNameError\u001b[0m: name 'inner' is not defined"
          ]
        }
      ]
    },
    {
      "cell_type": "markdown",
      "source": [
        "### Global"
      ],
      "metadata": {
        "id": "0Cjm7OsoLgJb"
      }
    },
    {
      "cell_type": "code",
      "source": [
        "x = 10  # 'x' is global\n",
        "\n",
        "def my_function():\n",
        "    x = 5\n",
        "    print(x)  # 'x' is accessible inside the function\n",
        "\n",
        "my_function()\n",
        "print(x)  # 'x' is accessible outside the function as well\n"
      ],
      "metadata": {
        "colab": {
          "base_uri": "https://localhost:8080/"
        },
        "id": "YfQJ-cknLmig",
        "outputId": "bf18076d-0cd8-4e64-c028-9e71cd55b8bf"
      },
      "execution_count": null,
      "outputs": [
        {
          "output_type": "stream",
          "name": "stdout",
          "text": [
            "5\n",
            "10\n"
          ]
        }
      ]
    },
    {
      "cell_type": "markdown",
      "source": [
        "### Built-in"
      ],
      "metadata": {
        "id": "EqHY00FxL31B"
      }
    },
    {
      "cell_type": "code",
      "source": [
        "print()\n",
        "len()"
      ],
      "metadata": {
        "colab": {
          "base_uri": "https://localhost:8080/",
          "height": 176
        },
        "id": "iUj6BzdVL9bu",
        "outputId": "4a8c0c93-30f0-4c99-ef71-fe2fa9af2741"
      },
      "execution_count": null,
      "outputs": [
        {
          "output_type": "stream",
          "name": "stdout",
          "text": [
            "\n"
          ]
        },
        {
          "output_type": "error",
          "ename": "TypeError",
          "evalue": "len() takes exactly one argument (0 given)",
          "traceback": [
            "\u001b[0;31m---------------------------------------------------------------------------\u001b[0m",
            "\u001b[0;31mTypeError\u001b[0m                                 Traceback (most recent call last)",
            "\u001b[0;32m<ipython-input-11-364b756a2405>\u001b[0m in \u001b[0;36m<cell line: 2>\u001b[0;34m()\u001b[0m\n\u001b[1;32m      1\u001b[0m \u001b[0mprint\u001b[0m\u001b[0;34m(\u001b[0m\u001b[0;34m)\u001b[0m\u001b[0;34m\u001b[0m\u001b[0;34m\u001b[0m\u001b[0m\n\u001b[0;32m----> 2\u001b[0;31m \u001b[0mlen\u001b[0m\u001b[0;34m(\u001b[0m\u001b[0;34m)\u001b[0m\u001b[0;34m\u001b[0m\u001b[0;34m\u001b[0m\u001b[0m\n\u001b[0m",
            "\u001b[0;31mTypeError\u001b[0m: len() takes exactly one argument (0 given)"
          ]
        }
      ]
    },
    {
      "cell_type": "markdown",
      "source": [
        "## **Standard functions**"
      ],
      "metadata": {
        "id": "Ub34FSq8klxX"
      }
    },
    {
      "cell_type": "markdown",
      "source": [
        "-- Python provides a large set of standard functions that are built into the language.    \n",
        "-- These functions help simplify tasks related to data manipulation, mathematical operations, string handling, file I/O, and more.  "
      ],
      "metadata": {
        "id": "pbfztJDeMdlz"
      }
    },
    {
      "cell_type": "markdown",
      "source": [
        "#### Mathematical Functions\n"
      ],
      "metadata": {
        "id": "SPSX8xSuMsBz"
      }
    },
    {
      "cell_type": "code",
      "source": [
        "print('abs(-5) = ',abs(-5))\n",
        "print('max(2, 4, 6) = ',max(2, 4, 6))\n",
        "print('min(2,4,6) = ', min(2, 4, 6))\n",
        "print('pow(2,3) = ',pow(2, 3))\n",
        "print('round(3.14159, 2) = ',round(3.14159, 2))\n",
        "print('sum([1, 2, 3]) = ',sum([1, 2, 3]))"
      ],
      "metadata": {
        "colab": {
          "base_uri": "https://localhost:8080/"
        },
        "id": "KaSz2T2uM_IF",
        "outputId": "6d7d6f08-e508-4f0b-d758-81cb1da5ac98"
      },
      "execution_count": null,
      "outputs": [
        {
          "output_type": "stream",
          "name": "stdout",
          "text": [
            "abs(-5) =  5\n",
            "max(2, 4, 6) =  6\n",
            "min(2,4,6) =  2\n",
            "pow(2,3) =  8\n",
            "round(3.14159, 2) =  3.14\n",
            "sum([1, 2, 3]) =  6\n"
          ]
        }
      ]
    },
    {
      "cell_type": "markdown",
      "source": [
        "#### Data Type Conversion Functions\n"
      ],
      "metadata": {
        "id": "T7XBNk-ZN-ld"
      }
    },
    {
      "cell_type": "code",
      "source": [
        "print('int(\"5\") = ', int(\"5\"))\n",
        "print('float(\"5.5\") = ',float(\"5.5\"))\n",
        "print(\"str(100) = \",str(100))\n",
        "print('list(\"hello\") = ',list(\"hello\"))\n",
        "print('tuple([1, 2, 3]) = ',tuple([1, 2, 3]))\n",
        "print('set([1, 2, 2, 3]) = ',set([1, 2, 2, 3]))"
      ],
      "metadata": {
        "colab": {
          "base_uri": "https://localhost:8080/"
        },
        "id": "XDBcaJB7OELe",
        "outputId": "3dd18bac-61e5-4e91-af3d-c4275c331e98"
      },
      "execution_count": null,
      "outputs": [
        {
          "output_type": "stream",
          "name": "stdout",
          "text": [
            "int(\"5\") =  5\n",
            "float(\"5.5\") =  5.5\n",
            "str(100) =  100\n",
            "list(\"hello\") =  ['h', 'e', 'l', 'l', 'o']\n",
            "tuple([1, 2, 3]) =  (1, 2, 3)\n",
            "set([1, 2, 2, 3]) =  {1, 2, 3}\n"
          ]
        }
      ]
    },
    {
      "cell_type": "markdown",
      "source": [
        "#### String Functions\n"
      ],
      "metadata": {
        "id": "eJS4DrPcPCEr"
      }
    },
    {
      "cell_type": "code",
      "source": [
        "print('len(\"hello\") = ',len(\"hello\"))\n",
        "print('\"hello world\".split() = ',\"hello world\".split())\n",
        "print('\"hello world\".replace(\"world\", \"Python\") = ',\"hello world\".replace(\"world\", \"Python\"))\n",
        "print('\"hello\".upper() = ',\"hello\".upper())"
      ],
      "metadata": {
        "colab": {
          "base_uri": "https://localhost:8080/"
        },
        "id": "OPx4zOSIPIlx",
        "outputId": "05d3558a-6360-4497-fa4b-b885496c98f9"
      },
      "execution_count": null,
      "outputs": [
        {
          "output_type": "stream",
          "name": "stdout",
          "text": [
            "len(\"hello\") =  5\n",
            "\"hello world\".split() =  ['hello', 'world']\n",
            "\"hello world\".replace(\"world\", \"Python\") =  hello Python\n",
            "\"hello\".upper() =  HELLO\n"
          ]
        }
      ]
    },
    {
      "cell_type": "markdown",
      "source": [
        "### Utility Functions\n"
      ],
      "metadata": {
        "id": "OBTPhTqGPunB"
      }
    },
    {
      "cell_type": "code",
      "source": [
        "print(type(42))  # Output: <class 'int'>\n",
        "x = 10\n",
        "print(id(x))  # Output: Some unique identifier (integer)\n",
        "print(isinstance(10, int))  # Output: True\n",
        "print(globals())\n",
        "def example():\n",
        "    a = 10\n",
        "    print(locals())  # Output: {'a': 10}\n",
        "example()"
      ],
      "metadata": {
        "id": "POTBUZ_SPw8Q"
      },
      "execution_count": null,
      "outputs": []
    },
    {
      "cell_type": "code",
      "source": [
        "def add(a:int, b:int)->int:\n",
        "  return a+b"
      ],
      "metadata": {
        "id": "R46Bmtnge75c"
      },
      "execution_count": null,
      "outputs": []
    },
    {
      "cell_type": "code",
      "source": [
        "print(add(5,5))"
      ],
      "metadata": {
        "colab": {
          "base_uri": "https://localhost:8080/"
        },
        "id": "m7SjPCY5fUba",
        "outputId": "613fc3b0-09f2-4005-87cf-5da7e73e5e77"
      },
      "execution_count": null,
      "outputs": [
        {
          "output_type": "stream",
          "name": "stdout",
          "text": [
            "10\n"
          ]
        }
      ]
    },
    {
      "cell_type": "code",
      "source": [
        "print(add(2.5, 2))"
      ],
      "metadata": {
        "colab": {
          "base_uri": "https://localhost:8080/"
        },
        "id": "8iQnp880fW5l",
        "outputId": "7f2b8a2f-8854-4297-e795-186067db67a6"
      },
      "execution_count": null,
      "outputs": [
        {
          "output_type": "stream",
          "name": "stdout",
          "text": [
            "4.5\n"
          ]
        }
      ]
    },
    {
      "cell_type": "markdown",
      "source": [
        "### Higher Order functions"
      ],
      "metadata": {
        "id": "0H2hcQnwaGMz"
      }
    },
    {
      "cell_type": "markdown",
      "source": [
        "- Functions that act on or return other functions\n",
        "- The `functools` module is for higher-order functions\n",
        "\n"
      ],
      "metadata": {
        "id": "nKvfHc7zbe4m"
      }
    },
    {
      "cell_type": "markdown",
      "source": [
        "## **Module**"
      ],
      "metadata": {
        "id": "b2pzVy9RkqLX"
      }
    },
    {
      "cell_type": "markdown",
      "source": [
        "-- If you quit from the Python interpreter and enter it again, the definitions you have made (functions and variables) are `lost`.  \n",
        "-- Therefore, if you want to write a somewhat **longer program**, you are better off using a text editor to prepare the input for the interpreter and running it with that* file as input* instead.  \n",
        "-- This is known as creating a `script`.  \n",
        "-- As your program gets longer, you may want to split it into several files for `easier maintenance`.  \n",
        "-- You may also want to use a handy function that you’ve written in several programs without copying its definition into each program.  \n",
        "-- To support this, Python has a way to put definitions in a file and use them in `a script` or in an interactive instance of the interpreter.  \n",
        "-- Such a file is called a `module`; definitions from a module can be imported into other modules or into the main module (the collection of variables that you have access to in a script executed at the top level and in calculator mode).  \n",
        "-- A module is a file containing Python definitions and statements.  \n",
        "-- The file name is the module name with the suffix .py appended.  \n",
        "-- Within a module, the module’s name (as a string) is available as the value of the global variable __name__.  \n",
        "-- For instance, use your favorite text editor to create a file called fibo.py in the current directory with the following contents:"
      ],
      "metadata": {
        "id": "5Sj4cW91N5MY"
      }
    },
    {
      "cell_type": "code",
      "source": [
        "from google.colab import drive\n",
        "drive.mount('/content/drive')\n",
        "\n",
        "%ls"
      ],
      "metadata": {
        "colab": {
          "base_uri": "https://localhost:8080/"
        },
        "id": "ksx4ECY1Q1tP",
        "outputId": "71d875f6-b1b2-4552-d74f-7b0ffdaa7fce"
      },
      "execution_count": null,
      "outputs": [
        {
          "output_type": "stream",
          "name": "stdout",
          "text": [
            "Mounted at /content/drive\n",
            "\u001b[0m\u001b[01;34mdrive\u001b[0m/  fibo.py  \u001b[01;34msample_data\u001b[0m/\n"
          ]
        }
      ]
    },
    {
      "cell_type": "code",
      "source": [
        "import fibo\n"
      ],
      "metadata": {
        "id": "Zfn52op8RJz7"
      },
      "execution_count": null,
      "outputs": []
    },
    {
      "cell_type": "code",
      "source": [
        "fibo.fib(10)"
      ],
      "metadata": {
        "colab": {
          "base_uri": "https://localhost:8080/"
        },
        "id": "iy6AVEViRNBp",
        "outputId": "3fb59140-73fd-4b8f-8f12-9d195c04a640"
      },
      "execution_count": null,
      "outputs": [
        {
          "output_type": "stream",
          "name": "stdout",
          "text": [
            "0 1 1 2 3 5 8 \n"
          ]
        }
      ]
    },
    {
      "cell_type": "code",
      "source": [
        "fibo.fib2(10)"
      ],
      "metadata": {
        "colab": {
          "base_uri": "https://localhost:8080/"
        },
        "id": "EYr7mBt-RcDm",
        "outputId": "5a440338-0b63-4a8e-a092-1ebbeb92a4e4"
      },
      "execution_count": null,
      "outputs": [
        {
          "output_type": "execute_result",
          "data": {
            "text/plain": [
              "[0, 1, 1, 2, 3, 5, 8]"
            ]
          },
          "metadata": {},
          "execution_count": 4
        }
      ]
    },
    {
      "cell_type": "markdown",
      "source": [
        "###  More on Modules"
      ],
      "metadata": {
        "id": "H1I7Y861R5Q_"
      }
    },
    {
      "cell_type": "markdown",
      "source": [
        "-- A module can contain **executable statements** as well as function definitions.  \n",
        "-- These statements are intended to initialize the module.  \n",
        "-- They are executed only the first time the module name is encountered in an **import statement**.  \n",
        "-- They are also run if the file is **executed as a script**.  \n",
        "-- Each module has its own **private namespace**, which is used as the global namespace by all functions defined in the module.  \n",
        "-- Thus, the author of a module can use global variables in the module without worrying about accidental clashes with a user’s global variables.  -- On the other hand, if you know what you are doing you can touch a module’s global variables with the same notation used to refer to its functions, modname.itemname.  \n",
        "-- Modules can import other modules.  \n",
        "-- It is customary but not required to place all import statements at the beginning of a module (or script, for that matter).  \n",
        "-- The imported module names, if placed at the top level of a module (outside any functions or classes), are added to the module’s global namespace.  \n",
        "-- There is a **variant of the import statement** that imports names from a module directly into the importing module’s namespace.  "
      ],
      "metadata": {
        "id": "qcBzwgM7R7So"
      }
    },
    {
      "cell_type": "code",
      "source": [
        "from fibo import fib, fib2"
      ],
      "metadata": {
        "id": "pQEhiGQ0TeQS"
      },
      "execution_count": null,
      "outputs": []
    },
    {
      "cell_type": "code",
      "source": [
        "fib(10)"
      ],
      "metadata": {
        "colab": {
          "base_uri": "https://localhost:8080/"
        },
        "id": "LlXNPkE0TipH",
        "outputId": "95639bf6-7f34-4e16-eba2-1520c8422218"
      },
      "execution_count": null,
      "outputs": [
        {
          "output_type": "stream",
          "name": "stdout",
          "text": [
            "0 1 1 2 3 5 8 \n"
          ]
        }
      ]
    },
    {
      "cell_type": "markdown",
      "source": [
        "-- This **does not introduce the module name** from which the imports are taken in the local namespace (so in the example, fibo is not defined)."
      ],
      "metadata": {
        "id": "gGFAoYVwT4up"
      }
    },
    {
      "cell_type": "markdown",
      "source": [
        "There is even a variant to import all names that a module defines:"
      ],
      "metadata": {
        "id": "xXBsTIwPUNwR"
      }
    },
    {
      "cell_type": "code",
      "source": [
        "from fibo import *"
      ],
      "metadata": {
        "id": "kGepQGm_UIex"
      },
      "execution_count": null,
      "outputs": []
    },
    {
      "cell_type": "code",
      "source": [
        "fib(10)"
      ],
      "metadata": {
        "colab": {
          "base_uri": "https://localhost:8080/"
        },
        "id": "fFOMWdVUUUWB",
        "outputId": "35c2dc82-803b-46dd-fea3-310ef5a5140c"
      },
      "execution_count": null,
      "outputs": [
        {
          "output_type": "stream",
          "name": "stdout",
          "text": [
            "0 1 1 2 3 5 8 \n"
          ]
        }
      ]
    },
    {
      "cell_type": "markdown",
      "source": [
        "-- This imports all names except those beginning with an underscore (_)  \n",
        "-- In most cases Python programmers do not use this facility since it introduces an unknown set of names into the interpreter, possibly hiding some things you have already defined.  \n",
        "-- Note that in general the practice of importing * from a module or package is frowned upon, since it often causes poorly readable code  \n",
        "-- However, it is okay to use it to save typing in interactive sessions.  \n",
        "-- If the module name is followed by as, then the name following as is bound directly to the imported module."
      ],
      "metadata": {
        "id": "qLXpTL-fU3_i"
      }
    },
    {
      "cell_type": "code",
      "source": [
        "import fibo as fib"
      ],
      "metadata": {
        "id": "GzstlgeAVS98"
      },
      "execution_count": null,
      "outputs": []
    },
    {
      "cell_type": "code",
      "source": [
        "fib.fib(10)"
      ],
      "metadata": {
        "colab": {
          "base_uri": "https://localhost:8080/"
        },
        "id": "Fdypt-FEVUXw",
        "outputId": "883c9ebb-9e95-4658-fb36-a81f3f237545"
      },
      "execution_count": null,
      "outputs": [
        {
          "output_type": "stream",
          "name": "stdout",
          "text": [
            "0 1 1 2 3 5 8 \n"
          ]
        }
      ]
    },
    {
      "cell_type": "markdown",
      "source": [
        "-- This is effectively importing the module in the same way that import fibo will do, with the only difference of it being available as fib  \n",
        "-- It can also be used when utilising from with similar effects"
      ],
      "metadata": {
        "id": "X8TQYvwAVvzB"
      }
    },
    {
      "cell_type": "code",
      "source": [
        "from fibo import fib as fibonacci"
      ],
      "metadata": {
        "id": "mMmVj56fV5cK"
      },
      "execution_count": null,
      "outputs": []
    },
    {
      "cell_type": "code",
      "source": [
        "fibonacci(10)"
      ],
      "metadata": {
        "colab": {
          "base_uri": "https://localhost:8080/"
        },
        "id": "wzN3OXJrWVX5",
        "outputId": "33ef5088-6271-44e3-fe4c-00d85a7658d9"
      },
      "execution_count": null,
      "outputs": [
        {
          "output_type": "stream",
          "name": "stdout",
          "text": [
            "0 1 1 2 3 5 8 \n"
          ]
        }
      ]
    },
    {
      "cell_type": "markdown",
      "source": [
        "-- For efficiency reasons, each module is only imported once per interpreter session.  \n",
        "-- Therefore, if you change your modules, you must restart the interpreter – or, if it’s just one module you want to test interactively, use importlib.reload(), e.g. import importlib; importlib.reload(modulename)."
      ],
      "metadata": {
        "id": "X8gCuyVOWot5"
      }
    },
    {
      "cell_type": "markdown",
      "source": [
        "### Executing modules as scripts"
      ],
      "metadata": {
        "id": "mcHxxX6aXCW7"
      }
    },
    {
      "cell_type": "markdown",
      "source": [
        "-- When you run a Python module with"
      ],
      "metadata": {
        "id": "p2FYnYJhXHMK"
      }
    },
    {
      "cell_type": "markdown",
      "source": [
        "`python fibo.py <arguments>`"
      ],
      "metadata": {
        "id": "ua-n13CfXJQp"
      }
    },
    {
      "cell_type": "markdown",
      "source": [
        "the code in the module will be executed, just as if you imported it, but with the __name__ set to \"__main__\".  \n",
        "That means that by adding this code at the end of your module:"
      ],
      "metadata": {
        "id": "A1uyrZAfXYIp"
      }
    },
    {
      "cell_type": "code",
      "source": [
        "if __name__ == \"__main__\":\n",
        "    import sys\n",
        "    fib(int(sys.argv[1]))"
      ],
      "metadata": {
        "colab": {
          "base_uri": "https://localhost:8080/",
          "height": 176
        },
        "id": "vN_h8vcxXbmU",
        "outputId": "f447ba73-9e37-4c0c-f5e8-3a52f3f6938e"
      },
      "execution_count": null,
      "outputs": [
        {
          "output_type": "error",
          "ename": "ValueError",
          "evalue": "invalid literal for int() with base 10: '-f'",
          "traceback": [
            "\u001b[0;31m---------------------------------------------------------------------------\u001b[0m",
            "\u001b[0;31mValueError\u001b[0m                                Traceback (most recent call last)",
            "\u001b[0;32m<ipython-input-13-62501033cb47>\u001b[0m in \u001b[0;36m<cell line: 1>\u001b[0;34m()\u001b[0m\n\u001b[1;32m      1\u001b[0m \u001b[0;32mif\u001b[0m \u001b[0m__name__\u001b[0m \u001b[0;34m==\u001b[0m \u001b[0;34m\"__main__\"\u001b[0m\u001b[0;34m:\u001b[0m\u001b[0;34m\u001b[0m\u001b[0;34m\u001b[0m\u001b[0m\n\u001b[1;32m      2\u001b[0m     \u001b[0;32mimport\u001b[0m \u001b[0msys\u001b[0m\u001b[0;34m\u001b[0m\u001b[0;34m\u001b[0m\u001b[0m\n\u001b[0;32m----> 3\u001b[0;31m     \u001b[0mfib\u001b[0m\u001b[0;34m(\u001b[0m\u001b[0mint\u001b[0m\u001b[0;34m(\u001b[0m\u001b[0msys\u001b[0m\u001b[0;34m.\u001b[0m\u001b[0margv\u001b[0m\u001b[0;34m[\u001b[0m\u001b[0;36m1\u001b[0m\u001b[0;34m]\u001b[0m\u001b[0;34m)\u001b[0m\u001b[0;34m)\u001b[0m\u001b[0;34m\u001b[0m\u001b[0;34m\u001b[0m\u001b[0m\n\u001b[0m",
            "\u001b[0;31mValueError\u001b[0m: invalid literal for int() with base 10: '-f'"
          ]
        }
      ]
    },
    {
      "cell_type": "markdown",
      "source": [
        "you can make the file usable as a script as well as an importable module, because the code that parses the command line only runs if the module is executed as the “main” file:"
      ],
      "metadata": {
        "id": "r-m7iTF5X5wC"
      }
    },
    {
      "cell_type": "code",
      "source": [
        "!python fibo.py 5"
      ],
      "metadata": {
        "colab": {
          "base_uri": "https://localhost:8080/"
        },
        "id": "5vCj4pcfX7KC",
        "outputId": "e35adbd8-801d-41ca-cfe5-c8ace641289c"
      },
      "execution_count": null,
      "outputs": [
        {
          "output_type": "stream",
          "name": "stdout",
          "text": [
            "0 1 1 2 3 \n"
          ]
        }
      ]
    },
    {
      "cell_type": "markdown",
      "source": [
        "### The Module Search Path"
      ],
      "metadata": {
        "id": "3xpzcezsZgo4"
      }
    },
    {
      "cell_type": "markdown",
      "source": [
        "When a module named spam is imported, the interpreter first searches for a built-in module with that name. These module names are listed in sys.builtin_module_names. If not found, it then searches for a file named spam.py in a list of directories given by the variable sys.path. sys.path is initialized from these locations:\n",
        "\n",
        "The directory containing the input script (or the current directory when no file is specified).\n",
        "\n",
        "PYTHONPATH (a list of directory names, with the same syntax as the shell variable PATH).\n",
        "\n",
        "The installation-dependent default (by convention including a site-packages directory, handled by the site module)."
      ],
      "metadata": {
        "id": "SmkNbh9Da80q"
      }
    },
    {
      "cell_type": "markdown",
      "source": [
        "### Standard Modules"
      ],
      "metadata": {
        "id": "9m_AKnWtbDcq"
      }
    },
    {
      "cell_type": "markdown",
      "source": [
        "-- Python comes with a library of standard modules, described in a separate document, the Python Library Reference (“Library Reference” hereafter).  \n",
        "\n",
        "-- Some modules are built into the interpreter; these provide access to operations that are not part of the core of the language but are nevertheless built in, either for efficiency or to provide access to operating system primitives such as system calls.  \n",
        "-- The set of such modules is a configuration option which also depends on the underlying platform. For example, the winreg module is only provided on Windows systems.  \n",
        "-- One particular module deserves some attention: sys, which is built into every Python interpreter.  \n",
        "-- The variables sys.ps1 and sys.ps2 define the strings used as primary and secondary prompts:"
      ],
      "metadata": {
        "id": "S_S_VgIBbF6D"
      }
    },
    {
      "cell_type": "code",
      "source": [
        "import sys"
      ],
      "metadata": {
        "id": "lHu6BqclbJ9E"
      },
      "execution_count": null,
      "outputs": []
    },
    {
      "cell_type": "code",
      "source": [
        "sys.ps1"
      ],
      "metadata": {
        "colab": {
          "base_uri": "https://localhost:8080/",
          "height": 35
        },
        "id": "TwfMzYpBbpPq",
        "outputId": "cc2b6b0a-d0b1-44a0-8c52-94d9b5d7afca"
      },
      "execution_count": null,
      "outputs": [
        {
          "output_type": "execute_result",
          "data": {
            "text/plain": [
              "'In : '"
            ],
            "application/vnd.google.colaboratory.intrinsic+json": {
              "type": "string"
            }
          },
          "metadata": {},
          "execution_count": 22
        }
      ]
    },
    {
      "cell_type": "markdown",
      "source": [
        "### The dir() Function"
      ],
      "metadata": {
        "id": "v8nyg_TFcOkT"
      }
    },
    {
      "cell_type": "code",
      "source": [
        "import fibo, sys"
      ],
      "metadata": {
        "id": "alPy77-icQqR"
      },
      "execution_count": null,
      "outputs": []
    },
    {
      "cell_type": "code",
      "source": [
        "dir(fibo)"
      ],
      "metadata": {
        "colab": {
          "base_uri": "https://localhost:8080/"
        },
        "id": "FA_ORnckcbGa",
        "outputId": "dd38fc9e-da0f-4c26-ee5a-ec44123485c9"
      },
      "execution_count": null,
      "outputs": [
        {
          "output_type": "execute_result",
          "data": {
            "text/plain": [
              "['__builtins__',\n",
              " '__cached__',\n",
              " '__doc__',\n",
              " '__file__',\n",
              " '__loader__',\n",
              " '__name__',\n",
              " '__package__',\n",
              " '__spec__',\n",
              " 'fib',\n",
              " 'fib2']"
            ]
          },
          "metadata": {},
          "execution_count": 24
        }
      ]
    },
    {
      "cell_type": "code",
      "source": [
        "dir(sys)"
      ],
      "metadata": {
        "colab": {
          "base_uri": "https://localhost:8080/"
        },
        "id": "SKnRhnavceYj",
        "outputId": "344553a0-b1ad-48c3-d037-88edf37734d4"
      },
      "execution_count": null,
      "outputs": [
        {
          "output_type": "execute_result",
          "data": {
            "text/plain": [
              "['__breakpointhook__',\n",
              " '__displayhook__',\n",
              " '__doc__',\n",
              " '__excepthook__',\n",
              " '__interactivehook__',\n",
              " '__loader__',\n",
              " '__name__',\n",
              " '__package__',\n",
              " '__spec__',\n",
              " '__stderr__',\n",
              " '__stdin__',\n",
              " '__stdout__',\n",
              " '__unraisablehook__',\n",
              " '_base_executable',\n",
              " '_clear_type_cache',\n",
              " '_current_exceptions',\n",
              " '_current_frames',\n",
              " '_deactivate_opcache',\n",
              " '_debugmallocstats',\n",
              " '_framework',\n",
              " '_getframe',\n",
              " '_git',\n",
              " '_home',\n",
              " '_xoptions',\n",
              " 'abiflags',\n",
              " 'addaudithook',\n",
              " 'api_version',\n",
              " 'argv',\n",
              " 'audit',\n",
              " 'base_exec_prefix',\n",
              " 'base_prefix',\n",
              " 'breakpointhook',\n",
              " 'builtin_module_names',\n",
              " 'byteorder',\n",
              " 'call_tracing',\n",
              " 'copyright',\n",
              " 'displayhook',\n",
              " 'dont_write_bytecode',\n",
              " 'exc_info',\n",
              " 'excepthook',\n",
              " 'exec_prefix',\n",
              " 'executable',\n",
              " 'exit',\n",
              " 'flags',\n",
              " 'float_info',\n",
              " 'float_repr_style',\n",
              " 'get_asyncgen_hooks',\n",
              " 'get_coroutine_origin_tracking_depth',\n",
              " 'get_int_max_str_digits',\n",
              " 'getallocatedblocks',\n",
              " 'getdefaultencoding',\n",
              " 'getdlopenflags',\n",
              " 'getfilesystemencodeerrors',\n",
              " 'getfilesystemencoding',\n",
              " 'getprofile',\n",
              " 'getrecursionlimit',\n",
              " 'getrefcount',\n",
              " 'getsizeof',\n",
              " 'getswitchinterval',\n",
              " 'gettrace',\n",
              " 'hash_info',\n",
              " 'hexversion',\n",
              " 'implementation',\n",
              " 'int_info',\n",
              " 'intern',\n",
              " 'is_finalizing',\n",
              " 'last_traceback',\n",
              " 'last_type',\n",
              " 'last_value',\n",
              " 'maxsize',\n",
              " 'maxunicode',\n",
              " 'meta_path',\n",
              " 'modules',\n",
              " 'orig_argv',\n",
              " 'path',\n",
              " 'path_hooks',\n",
              " 'path_importer_cache',\n",
              " 'platform',\n",
              " 'platlibdir',\n",
              " 'prefix',\n",
              " 'ps1',\n",
              " 'ps2',\n",
              " 'ps3',\n",
              " 'pycache_prefix',\n",
              " 'set_asyncgen_hooks',\n",
              " 'set_coroutine_origin_tracking_depth',\n",
              " 'set_int_max_str_digits',\n",
              " 'setdlopenflags',\n",
              " 'setprofile',\n",
              " 'setrecursionlimit',\n",
              " 'setswitchinterval',\n",
              " 'settrace',\n",
              " 'stderr',\n",
              " 'stdin',\n",
              " 'stdlib_module_names',\n",
              " 'stdout',\n",
              " 'thread_info',\n",
              " 'unraisablehook',\n",
              " 'version',\n",
              " 'version_info',\n",
              " 'warnoptions']"
            ]
          },
          "metadata": {},
          "execution_count": 25
        }
      ]
    },
    {
      "cell_type": "markdown",
      "source": [
        "### Packages"
      ],
      "metadata": {
        "id": "kbbxgDhfclBC"
      }
    },
    {
      "cell_type": "markdown",
      "source": [
        "Packages are a way of structuring Python’s module namespace by using “dotted module names”. For example, the module name A.B designates a submodule named B in a package named A. Just like the use of modules saves the authors of different modules from having to worry about each other’s global variable names, the use of dotted module names saves the authors of multi-module packages like NumPy or Pillow from having to worry about each other’s module names.\n",
        "\n",
        "Suppose you want to design a collection of modules (a “package”) for the uniform handling of sound files and sound data. There are many different sound file formats (usually recognized by their extension, for example: .wav, .aiff, .au), so you may need to create and maintain a growing collection of modules for the conversion between the various file formats. There are also many different operations you might want to perform on sound data (such as mixing, adding echo, applying an equalizer function, creating an artificial stereo effect), so in addition you will be writing a never-ending stream of modules to perform these operations. Here’s a possible structure for your package (expressed in terms of a hierarchical filesystem):"
      ],
      "metadata": {
        "id": "4maYXD0Ic_-m"
      }
    },
    {
      "cell_type": "markdown",
      "source": [
        "When importing the package, Python searches through the directories on sys.path looking for the package subdirectory.\n",
        "\n",
        "The __init__.py files are required to make Python treat directories containing the file as packages (unless using a namespace package, a relatively advanced feature). This prevents directories with a common name, such as string, from unintentionally hiding valid modules that occur later on the module search path. In the simplest case, __init__.py can just be an empty file, but it can also execute initialization code for the package or set the __all__ variable, described later.\n",
        "\n",
        "Users of the package can import individual modules from the package, for example:"
      ],
      "metadata": {
        "id": "ts7ywJdhe6eS"
      }
    },
    {
      "cell_type": "code",
      "source": [
        "import sound.effects.echo"
      ],
      "metadata": {
        "id": "mhXXq-XlfGQq"
      },
      "execution_count": null,
      "outputs": []
    },
    {
      "cell_type": "markdown",
      "source": [
        "## **Turtle with function**"
      ],
      "metadata": {
        "id": "E47HJ1vDks1v"
      }
    },
    {
      "cell_type": "code",
      "source": [
        "!apt-get install -y xvfb # Install Xvfb"
      ],
      "metadata": {
        "colab": {
          "base_uri": "https://localhost:8080/"
        },
        "id": "t6r_dEatMgM8",
        "outputId": "351d3b50-6985-48f1-c10d-a2be157311d4"
      },
      "execution_count": null,
      "outputs": [
        {
          "output_type": "stream",
          "name": "stdout",
          "text": [
            "Reading package lists... Done\n",
            "Building dependency tree... Done\n",
            "Reading state information... Done\n",
            "xvfb is already the newest version (2:21.1.4-2ubuntu1.7~22.04.12).\n",
            "0 upgraded, 0 newly installed, 0 to remove and 49 not upgraded.\n"
          ]
        }
      ]
    },
    {
      "cell_type": "code",
      "source": [
        "!pip install pyvirtualdisplay # Install pyvirtualdisplay for virtual display management"
      ],
      "metadata": {
        "colab": {
          "base_uri": "https://localhost:8080/"
        },
        "id": "TTLe_SujMrB-",
        "outputId": "a6a1729a-09fe-4d8d-e0cb-50cd60dcf56b"
      },
      "execution_count": null,
      "outputs": [
        {
          "output_type": "stream",
          "name": "stdout",
          "text": [
            "Requirement already satisfied: pyvirtualdisplay in /usr/local/lib/python3.10/dist-packages (3.0)\n"
          ]
        }
      ]
    },
    {
      "cell_type": "code",
      "source": [
        "!pip install ColabTurtle # Install ColabTurtle"
      ],
      "metadata": {
        "colab": {
          "base_uri": "https://localhost:8080/"
        },
        "id": "uomRyNbnN10r",
        "outputId": "07d9fc52-9643-438b-98ea-75033bfadbcb"
      },
      "execution_count": null,
      "outputs": [
        {
          "output_type": "stream",
          "name": "stdout",
          "text": [
            "Collecting ColabTurtle\n",
            "  Downloading ColabTurtle-2.1.0.tar.gz (6.8 kB)\n",
            "  Preparing metadata (setup.py) ... \u001b[?25l\u001b[?25hdone\n",
            "Building wheels for collected packages: ColabTurtle\n",
            "  Building wheel for ColabTurtle (setup.py) ... \u001b[?25l\u001b[?25hdone\n",
            "  Created wheel for ColabTurtle: filename=ColabTurtle-2.1.0-py3-none-any.whl size=7642 sha256=8558e41965b4a9b1bf418a84293d425a2243d6249abc41b54006ef4a1997af91\n",
            "  Stored in directory: /root/.cache/pip/wheels/5b/86/e8/54f5c8c853606e3a3060bb2e60363cbed632374a12e0f33ffc\n",
            "Successfully built ColabTurtle\n",
            "Installing collected packages: ColabTurtle\n",
            "Successfully installed ColabTurtle-2.1.0\n"
          ]
        }
      ]
    },
    {
      "cell_type": "code",
      "source": [
        "from pyvirtualdisplay import Display\n",
        "display = Display(visible=0, size=(1024, 768)) # Create a virtual display\n",
        "display.start()"
      ],
      "metadata": {
        "colab": {
          "base_uri": "https://localhost:8080/"
        },
        "id": "HbU2U5SDM23W",
        "outputId": "c6a74705-7c55-45c0-8d49-bca592256519"
      },
      "execution_count": null,
      "outputs": [
        {
          "output_type": "execute_result",
          "data": {
            "text/plain": [
              "<pyvirtualdisplay.display.Display at 0x7ace9a81a410>"
            ]
          },
          "metadata": {},
          "execution_count": 13
        }
      ]
    },
    {
      "cell_type": "code",
      "source": [
        "\n",
        "import os\n",
        "os.environ['DISPLAY'] = ':1'  # Set the DISPLAY environment variable\n"
      ],
      "metadata": {
        "id": "IRAwcuHyM7Jp"
      },
      "execution_count": null,
      "outputs": []
    },
    {
      "cell_type": "code",
      "source": [
        "from ColabTurtle.Turtle import * # Import ColabTurtle functions\n",
        "\n",
        "initializeTurtle() # Initialize the turtle canvas\n",
        "def rectangle():\n",
        "    forward(100)\n",
        "    left(90)\n",
        "    forward(100)\n",
        "    left(90)\n",
        "    forward(100)\n",
        "    left(90)\n",
        "    forward(100)\n",
        "\n",
        "rectangle()\n"
      ],
      "metadata": {
        "id": "fiD00DLihxL_",
        "colab": {
          "base_uri": "https://localhost:8080/",
          "height": 541
        },
        "outputId": "232c5a4a-bc53-48a9-b858-66fe1edc07e6"
      },
      "execution_count": null,
      "outputs": [
        {
          "output_type": "display_data",
          "data": {
            "text/plain": [
              "<IPython.core.display.HTML object>"
            ],
            "text/html": [
              "\n",
              "      <svg width=\"800\" height=\"500\">\n",
              "        <rect width=\"100%\" height=\"100%\" fill=\"black\"/>\n",
              "        <line x1=\"400\" y1=\"250\" x2=\"400.0\" y2=\"150.0\" stroke-linecap=\"round\" style=\"stroke:white;stroke-width:4\"/><line x1=\"400.0\" y1=\"150.0\" x2=\"300.0\" y2=\"150.0\" stroke-linecap=\"round\" style=\"stroke:white;stroke-width:4\"/><line x1=\"300.0\" y1=\"150.0\" x2=\"300.0\" y2=\"250.0\" stroke-linecap=\"round\" style=\"stroke:white;stroke-width:4\"/><line x1=\"300.0\" y1=\"250.0\" x2=\"400.0\" y2=\"250.0\" stroke-linecap=\"round\" style=\"stroke:white;stroke-width:4\"/>\n",
              "        <g visibility=visible transform=\"rotate(90,400.0,250.0) translate(382.0, 232.0)\">\n",
              "<path style=\" stroke:none;fill-rule:evenodd;fill:white;fill-opacity:1;\" d=\"M 18.214844 0.632812 C 16.109375 1.800781 15.011719 4.074219 15.074219 7.132812 L 15.085938 7.652344 L 14.785156 7.496094 C 13.476562 6.824219 11.957031 6.671875 10.40625 7.066406 C 8.46875 7.550781 6.515625 9.15625 4.394531 11.992188 C 3.0625 13.777344 2.679688 14.636719 3.042969 15.027344 L 3.15625 15.152344 L 3.519531 15.152344 C 4.238281 15.152344 4.828125 14.886719 8.1875 13.039062 C 9.386719 12.378906 10.371094 11.839844 10.378906 11.839844 C 10.386719 11.839844 10.355469 11.929688 10.304688 12.035156 C 9.832031 13.09375 9.257812 14.820312 8.96875 16.078125 C 7.914062 20.652344 8.617188 24.53125 11.070312 27.660156 C 11.351562 28.015625 11.363281 27.914062 10.972656 28.382812 C 8.925781 30.84375 7.945312 33.28125 8.238281 35.1875 C 8.289062 35.527344 8.28125 35.523438 8.917969 35.523438 C 10.941406 35.523438 13.074219 34.207031 15.136719 31.6875 C 15.359375 31.417969 15.328125 31.425781 15.5625 31.574219 C 16.292969 32.042969 18.023438 32.964844 18.175781 32.964844 C 18.335938 32.964844 19.941406 32.210938 20.828125 31.71875 C 20.996094 31.625 21.136719 31.554688 21.136719 31.558594 C 21.203125 31.664062 21.898438 32.414062 22.222656 32.730469 C 23.835938 34.300781 25.5625 35.132812 27.582031 35.300781 C 27.90625 35.328125 27.9375 35.308594 28.007812 34.984375 C 28.382812 33.242188 27.625 30.925781 25.863281 28.425781 L 25.542969 27.96875 L 25.699219 27.785156 C 28.945312 23.960938 29.132812 18.699219 26.257812 11.96875 L 26.207031 11.84375 L 27.945312 12.703125 C 31.53125 14.476562 32.316406 14.800781 33.03125 14.800781 C 33.976562 14.800781 33.78125 13.9375 32.472656 12.292969 C 28.519531 7.355469 25.394531 5.925781 21.921875 7.472656 L 21.558594 7.636719 L 21.578125 7.542969 C 21.699219 6.992188 21.761719 5.742188 21.699219 5.164062 C 21.496094 3.296875 20.664062 1.964844 19.003906 0.855469 C 18.480469 0.503906 18.457031 0.5 18.214844 0.632812\"/>\n",
              "</g>\n",
              "      </svg>\n",
              "    "
            ]
          },
          "metadata": {}
        }
      ]
    },
    {
      "cell_type": "code",
      "source": [
        "from ColabTurtle.Turtle import * # Import ColabTurtle functions\n",
        "from ColabTurtle.Turtle import * # Import ColabTurtle functions\n",
        "initializeTurtle() # Initialize the turtle canvas\n",
        "\n",
        "def traingle():\n",
        "  backward(100)\n",
        "  left(90)\n",
        "  forward(150)\n",
        "  left(35)\n",
        "  backward(180)\n",
        "\n",
        "\n",
        "\n",
        "traingle()\n",
        "penup()\n",
        "goto(0,200)\n",
        "pendown()\n",
        "traingle()"
      ],
      "metadata": {
        "colab": {
          "base_uri": "https://localhost:8080/",
          "height": 541
        },
        "id": "5uNCr739h1GD",
        "outputId": "f88758c3-92f9-4418-8ab4-eeab878550fd"
      },
      "execution_count": null,
      "outputs": [
        {
          "output_type": "display_data",
          "data": {
            "text/plain": [
              "<IPython.core.display.HTML object>"
            ],
            "text/html": [
              "\n",
              "      <svg width=\"800\" height=\"500\">\n",
              "        <rect width=\"100%\" height=\"100%\" fill=\"black\"/>\n",
              "        <line x1=\"400\" y1=\"250\" x2=\"400.0\" y2=\"350.0\" stroke-linecap=\"round\" style=\"stroke:white;stroke-width:4\"/><line x1=\"400.0\" y1=\"350.0\" x2=\"250.0\" y2=\"350.0\" stroke-linecap=\"round\" style=\"stroke:white;stroke-width:4\"/><line x1=\"250.0\" y1=\"350.0\" x2=\"397.447\" y2=\"246.756\" stroke-linecap=\"round\" style=\"stroke:white;stroke-width:4\"/><line x1=\"0\" y1=\"200\" x2=\"81.915\" y2=\"142.642\" stroke-linecap=\"round\" style=\"stroke:white;stroke-width:4\"/><line x1=\"81.915\" y1=\"142.642\" x2=\"167.951\" y2=\"265.515\" stroke-linecap=\"round\" style=\"stroke:white;stroke-width:4\"/><line x1=\"167.951\" y1=\"265.515\" x2=\"-1.194\" y2=\"203.951\" stroke-linecap=\"round\" style=\"stroke:white;stroke-width:4\"/>\n",
              "        <g visibility=visible transform=\"rotate(110,-1.194,203.951) translate(-19.194, 185.951)\">\n",
              "<path style=\" stroke:none;fill-rule:evenodd;fill:white;fill-opacity:1;\" d=\"M 18.214844 0.632812 C 16.109375 1.800781 15.011719 4.074219 15.074219 7.132812 L 15.085938 7.652344 L 14.785156 7.496094 C 13.476562 6.824219 11.957031 6.671875 10.40625 7.066406 C 8.46875 7.550781 6.515625 9.15625 4.394531 11.992188 C 3.0625 13.777344 2.679688 14.636719 3.042969 15.027344 L 3.15625 15.152344 L 3.519531 15.152344 C 4.238281 15.152344 4.828125 14.886719 8.1875 13.039062 C 9.386719 12.378906 10.371094 11.839844 10.378906 11.839844 C 10.386719 11.839844 10.355469 11.929688 10.304688 12.035156 C 9.832031 13.09375 9.257812 14.820312 8.96875 16.078125 C 7.914062 20.652344 8.617188 24.53125 11.070312 27.660156 C 11.351562 28.015625 11.363281 27.914062 10.972656 28.382812 C 8.925781 30.84375 7.945312 33.28125 8.238281 35.1875 C 8.289062 35.527344 8.28125 35.523438 8.917969 35.523438 C 10.941406 35.523438 13.074219 34.207031 15.136719 31.6875 C 15.359375 31.417969 15.328125 31.425781 15.5625 31.574219 C 16.292969 32.042969 18.023438 32.964844 18.175781 32.964844 C 18.335938 32.964844 19.941406 32.210938 20.828125 31.71875 C 20.996094 31.625 21.136719 31.554688 21.136719 31.558594 C 21.203125 31.664062 21.898438 32.414062 22.222656 32.730469 C 23.835938 34.300781 25.5625 35.132812 27.582031 35.300781 C 27.90625 35.328125 27.9375 35.308594 28.007812 34.984375 C 28.382812 33.242188 27.625 30.925781 25.863281 28.425781 L 25.542969 27.96875 L 25.699219 27.785156 C 28.945312 23.960938 29.132812 18.699219 26.257812 11.96875 L 26.207031 11.84375 L 27.945312 12.703125 C 31.53125 14.476562 32.316406 14.800781 33.03125 14.800781 C 33.976562 14.800781 33.78125 13.9375 32.472656 12.292969 C 28.519531 7.355469 25.394531 5.925781 21.921875 7.472656 L 21.558594 7.636719 L 21.578125 7.542969 C 21.699219 6.992188 21.761719 5.742188 21.699219 5.164062 C 21.496094 3.296875 20.664062 1.964844 19.003906 0.855469 C 18.480469 0.503906 18.457031 0.5 18.214844 0.632812\"/>\n",
              "</g>\n",
              "      </svg>\n",
              "    "
            ]
          },
          "metadata": {}
        }
      ]
    },
    {
      "cell_type": "markdown",
      "source": [
        "#Summary"
      ],
      "metadata": {
        "id": "w7_JB-zAwUVI"
      }
    },
    {
      "cell_type": "markdown",
      "source": [
        "- Function is a bock of code defined for a speific task manipulation\n",
        "- def is keyword used to define a function\n",
        "- Function could have parameter/s\n",
        "- Parameter can be positional, keyword, both, positional only, keyword only\n",
        "- Function can be user/programmer defined, built-in or third party\n",
        "- Function can be called as many as wanted\n",
        "- Function is used to write maintabable, reusabel, clear program\n",
        "- Functin can be imported in another file as module"
      ],
      "metadata": {
        "id": "W1Yw3yOEwWlU"
      }
    }
  ]
}